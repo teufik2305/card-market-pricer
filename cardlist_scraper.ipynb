{
 "cells": [
  {
   "cell_type": "code",
   "execution_count": null,
   "id": "0",
   "metadata": {},
   "outputs": [],
   "source": [
    "import time\n",
    "import random\n",
    "import json\n",
    "import os\n",
    "from selenium import webdriver\n",
    "from selenium.webdriver.common.by import By\n",
    "from selenium.webdriver.common.action_chains import ActionChains\n",
    "from selenium.webdriver.chrome.service import Service as ChromeService\n",
    "from selenium.webdriver.chrome.options import Options\n",
    "from webdriver_manager.chrome import ChromeDriverManager"
   ]
  },
  {
   "cell_type": "code",
   "execution_count": null,
   "id": "1",
   "metadata": {},
   "outputs": [],
   "source": [
    "tcg = 'Digimon'"
   ]
  },
  {
   "cell_type": "code",
   "execution_count": null,
   "id": "2",
   "metadata": {},
   "outputs": [],
   "source": [
    "cardlist_file_path = f\"{os.getcwd()}/data/{tcg}/cardlist.json\"\n",
    "finished_expansions_file_path = f\"{os.getcwd()}/data/{tcg}/cardlist-finished-expansions.json\""
   ]
  },
  {
   "cell_type": "code",
   "execution_count": null,
   "id": "3",
   "metadata": {},
   "outputs": [],
   "source": [
    "try:\n",
    "    with open(cardlist_file_path, \"r\") as file:\n",
    "        data = json.load(file)\n",
    "except Exception as e:\n",
    "    data = {'Singles': {}}"
   ]
  },
  {
   "cell_type": "code",
   "execution_count": null,
   "id": "4",
   "metadata": {},
   "outputs": [],
   "source": [
    "def save_data(data):\n",
    "    sorted_data = {\n",
    "        category: {\n",
    "            exp_name: {\n",
    "                card_name: card_data\n",
    "                for card_name, card_data in sorted(exp_data.items())\n",
    "            }\n",
    "            for exp_name, exp_data in sorted(category_data.items())\n",
    "        }\n",
    "        for category, category_data in sorted(data.items())\n",
    "    }\n",
    "    os.makedirs(os.path.dirname(cardlist_file_path), exist_ok=True)\n",
    "    with open(cardlist_file_path, \"w\") as file:\n",
    "        json.dump(sorted_data, file, indent=4)"
   ]
  },
  {
   "cell_type": "code",
   "execution_count": null,
   "id": "5",
   "metadata": {},
   "outputs": [],
   "source": [
    "URL = f\"https://www.cardmarket.com/en/{tcg}/Products\"\n",
    "URL_expansions = f\"https://www.cardmarket.com/en/{tcg}/Expansions\"\n",
    "headers = {\n",
    "    'User-Agent': 'Mozilla/5.0 (X11; Linux x86_64) AppleWebKit/537.36 (KHTML, like Gecko) Chrome/127.0.0.0 Safari/537.36'\n",
    "}"
   ]
  },
  {
   "cell_type": "code",
   "execution_count": null,
   "id": "6",
   "metadata": {},
   "outputs": [],
   "source": [
    "def random_delay(min_delay=3, max_delay=10):\n",
    "    time.sleep(random.uniform(min_delay, max_delay))"
   ]
  },
  {
   "cell_type": "code",
   "execution_count": null,
   "id": "7",
   "metadata": {},
   "outputs": [],
   "source": [
    "def setup_driver():\n",
    "    options = Options()\n",
    "    # options.add_argument('--headless')\n",
    "    options.add_argument('--disable-gpu')\n",
    "    options.add_argument('--no-sandbox')\n",
    "    options.add_argument('--disable-blink-features=AutomationControlled')\n",
    "    driver = webdriver.Chrome(service=ChromeService(ChromeDriverManager().install()), options=options)\n",
    "    driver.set_window_size(random.randint(800, 1200), random.randint(600, 800))\n",
    "    actions = ActionChains(driver)\n",
    "    print(\"Driver set\")\n",
    "    \n",
    "    # Accepting Cookies\n",
    "    driver.get(URL)\n",
    "    cookie_button = \"\"\"//*[@id=\"CookiesConsent\"]/div/div/form/div/button\"\"\"\n",
    "    cookie_btn = driver.find_element(By.XPATH, cookie_button)\n",
    "    random_delay(4, 6)\n",
    "    try:\n",
    "        cookie_btn.click()\n",
    "        print(\"Cookie Accepted\")\n",
    "        random_delay(2, 3)\n",
    "    except Exception as e:\n",
    "        print(f'Could not click on cookie button {URL}: {e}')\n",
    "    return driver, actions"
   ]
  },
  {
   "cell_type": "code",
   "execution_count": null,
   "id": "8",
   "metadata": {},
   "outputs": [],
   "source": [
    "driver, actions = setup_driver()"
   ]
  },
  {
   "cell_type": "code",
   "execution_count": null,
   "id": "9",
   "metadata": {},
   "outputs": [],
   "source": [
    "last_n_years = 5"
   ]
  },
  {
   "cell_type": "code",
   "execution_count": null,
   "id": "10",
   "metadata": {},
   "outputs": [],
   "source": [
    "def get_expansions(expansions):\n",
    "    global driver, actions\n",
    "    url = f\"{URL_expansions}\"\n",
    "    driver.get(url)\n",
    "    random_delay(2, 3)\n",
    "    years = driver.find_element(By.ID, \"ExpansionList\").find_elements(By.CLASS_NAME, \"expansion-group\")\n",
    "    counter = 0\n",
    "    for year in years:\n",
    "        if counter == last_n_years:\n",
    "            break\n",
    "        y = int(year.find_element(By.TAG_NAME, 'h2').text.split('\\n')[0])\n",
    "        print(f\"Getting expansions for year {y}\")\n",
    "        random_delay(2, 6)\n",
    "        driver.execute_script(\"window.scrollTo(0, document.body.scrollHeight);\")\n",
    "        expansion_divs = year.find_elements(By.CLASS_NAME, \"expansion-row\")\n",
    "        for div in expansion_divs:\n",
    "            expansion = div.get_attribute(\"data-url\").split('/')[-1]\n",
    "            if expansion not in expansions:\n",
    "                expansions.append(expansion)\n",
    "        counter += 1"
   ]
  },
  {
   "cell_type": "code",
   "execution_count": null,
   "id": "11",
   "metadata": {},
   "outputs": [],
   "source": [
    "expansions = []\n",
    "get_expansions(expansions)"
   ]
  },
  {
   "cell_type": "code",
   "execution_count": null,
   "id": "12",
   "metadata": {},
   "outputs": [],
   "source": [
    "len(expansions)"
   ]
  },
  {
   "cell_type": "code",
   "execution_count": null,
   "id": "13",
   "metadata": {},
   "outputs": [],
   "source": [
    "for expansion in expansions:\n",
    "    if expansion not in data['Singles']:\n",
    "        data['Singles'][expansion] = {}\n",
    "        print(expansion)"
   ]
  },
  {
   "cell_type": "code",
   "execution_count": null,
   "id": "14",
   "metadata": {},
   "outputs": [],
   "source": [
    "save_data(data)"
   ]
  },
  {
   "cell_type": "code",
   "execution_count": null,
   "id": "15",
   "metadata": {},
   "outputs": [],
   "source": [
    "def get_cards(expansion, cards):\n",
    "    url = f\"{URL}/Singles/{expansion}\"\n",
    "    driver.get(url)\n",
    "    random_delay(2, 3)\n",
    "    try:\n",
    "        no_res = driver.find_element(By.CLASS_NAME, \"noResults\").text\n",
    "        if no_res != '':\n",
    "            print(f\"Could not get {expansion}. No Results\")\n",
    "            return 0\n",
    "    except Exception as e:\n",
    "        pass\n",
    "    pages = int(driver.find_element(By.ID, \"pagination\").text.split(' ')[-1].strip('+'))\n",
    "    for page in range(1, pages+1):\n",
    "        page_url = f\"{URL}/Singles/{expansion}?idRarity=0&site={page}\"\n",
    "        random_delay(2, 6)\n",
    "        driver.get(page_url)\n",
    "        random_delay(1, 3)\n",
    "        # actions.move_by_offset(random.randint(0, 100), random.randint(0, 100)).perform()\n",
    "        driver.execute_script(\"window.scrollTo(0, document.body.scrollHeight);\")\n",
    "        random_delay(2, 6)\n",
    "\n",
    "        card_names = []\n",
    "        cols = driver.find_element(By.CLASS_NAME, \"table-body\").find_elements(By.CLASS_NAME, \"col-10\")\n",
    "        for col in cols:\n",
    "            card_name = col.find_element(By.TAG_NAME, 'a').get_attribute(\"href\").split('/')[-1]\n",
    "            card_names.append(card_name)\n",
    "\n",
    "        card_prices = []\n",
    "        cols_price = driver.find_element(By.CLASS_NAME, \"table-body\").find_elements(By.CLASS_NAME, \"col-price\")\n",
    "        for col_price in cols_price:\n",
    "            try:\n",
    "                card_price = float(col_price.text.split(' ')[0].replace(',', '.'))\n",
    "            except Exception as e:\n",
    "                print(f\"Could not get price for {card_names[cols_price.index(col_price)]}. error: {e}\")\n",
    "                card_price = 0.0\n",
    "            card_prices.append(card_price)\n",
    "        for i in range(len(card_names)):\n",
    "            card = {card_names[i]: card_prices[i]} if i < len(card_prices) else {card_names[i]: 0.0}\n",
    "            cards.append(card)"
   ]
  },
  {
   "cell_type": "code",
   "execution_count": null,
   "id": "16",
   "metadata": {},
   "outputs": [],
   "source": [
    "try:\n",
    "    with open(finished_expansions_file_path, \"r\") as file:\n",
    "        finished_expansions = json.load(file)\n",
    "except Exception as e:\n",
    "    finished_expansions = []"
   ]
  },
  {
   "cell_type": "code",
   "execution_count": null,
   "id": "17",
   "metadata": {},
   "outputs": [],
   "source": [
    "def save_finished_expansions(finished_expansions):\n",
    "    os.makedirs(os.path.dirname(finished_expansions_file_path), exist_ok=True)\n",
    "    with open(finished_expansions_file_path, \"w\") as file:\n",
    "        json.dump(sorted(finished_expansions), file, indent=4)"
   ]
  },
  {
   "cell_type": "code",
   "execution_count": null,
   "id": "18",
   "metadata": {},
   "outputs": [],
   "source": [
    "cards = []\n",
    "selected_expansions = list(data['Singles'].keys())\n",
    "selected_expansions = [e for e in selected_expansions if e not in finished_expansions]\n",
    "print(f'Left {len(selected_expansions)} expansions')\n",
    "for expansion in selected_expansions:\n",
    "    print(f\"Getting cards for {expansion}\")\n",
    "    get_cards(expansion, cards)\n",
    "    for card in cards:\n",
    "        for card_name, card_price in card.items():\n",
    "            if card_name not in data['Singles'][expansion]:\n",
    "                card = {card_name: {\n",
    "                    \"quantity\": 0,\n",
    "                    \"price_from\": card_price,\n",
    "                    \"price_trend\": 0.0,\n",
    "                    \"price_30_day_avg\": 0.0\n",
    "                    }}\n",
    "                data['Singles'][expansion].update(card)\n",
    "    finished_expansions.append(expansion)\n",
    "    save_finished_expansions(finished_expansions)\n",
    "    save_data(data)\n",
    "    cards = []\n",
    "    driver.quit()\n",
    "    driver, actions = setup_driver()"
   ]
  },
  {
   "cell_type": "code",
   "execution_count": null,
   "id": "19",
   "metadata": {},
   "outputs": [],
   "source": [
    "driver.quit()"
   ]
  },
  {
   "cell_type": "code",
   "execution_count": null,
   "id": "20",
   "metadata": {},
   "outputs": [],
   "source": []
  }
 ],
 "metadata": {
  "kernelspec": {
   "display_name": "Python 3 (ipykernel)",
   "language": "python",
   "name": "python3"
  },
  "language_info": {
   "codemirror_mode": {
    "name": "ipython",
    "version": 3
   },
   "file_extension": ".py",
   "mimetype": "text/x-python",
   "name": "python",
   "nbconvert_exporter": "python",
   "pygments_lexer": "ipython3",
   "version": "3.11.7"
  }
 },
 "nbformat": 4,
 "nbformat_minor": 5
}
