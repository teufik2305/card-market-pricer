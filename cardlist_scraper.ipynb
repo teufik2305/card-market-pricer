{
 "cells": [
  {
   "cell_type": "code",
   "execution_count": 2,
   "id": "f216cc2c-3ab6-41e4-beda-ab5fc8345ad6",
   "metadata": {},
   "outputs": [],
   "source": [
    "import time\n",
    "import random\n",
    "import json\n",
    "import pandas as pd\n",
    "import os\n",
    "from selenium import webdriver\n",
    "from selenium.webdriver.common.by import By\n",
    "from selenium.webdriver.common.action_chains import ActionChains\n",
    "from selenium.webdriver.chrome.service import Service as ChromeService\n",
    "from selenium.webdriver.chrome.options import Options\n",
    "from webdriver_manager.chrome import ChromeDriverManager"
   ]
  },
  {
   "cell_type": "code",
   "execution_count": 4,
   "id": "1bd87594",
   "metadata": {},
   "outputs": [],
   "source": [
    "tcg = 'YuGiOh'"
   ]
  },
  {
   "cell_type": "code",
   "execution_count": 6,
   "id": "95f11d1a-a43d-4d3a-9d94-8a112b6fd3ff",
   "metadata": {},
   "outputs": [],
   "source": [
    "cardlist_file_path = f\"{os.getcwd()}/data/{tcg}/cardlist.json\"\n",
    "finished_expansions_file_path = f\"{os.getcwd()}/data/{tcg}/cardlist-finished-expansions.json\""
   ]
  },
  {
   "cell_type": "code",
   "execution_count": 8,
   "id": "692a4359-4e0f-46d2-8939-36c4a998a40a",
   "metadata": {},
   "outputs": [],
   "source": [
    "try:\n",
    "    with open(cardlist_file_path, \"r\") as file:\n",
    "        data = json.load(file)\n",
    "except Exception as e:\n",
    "    data = {}"
   ]
  },
  {
   "cell_type": "code",
   "execution_count": 10,
   "id": "58b129b9-a4c8-4a13-8970-cccf7a4a3eff",
   "metadata": {},
   "outputs": [],
   "source": [
    "def save_data(data):\n",
    "    sorted_data = {\n",
    "        category: {\n",
    "            exp_name: {\n",
    "                card_name: card_data\n",
    "                for card_name, card_data in sorted(exp_data.items())\n",
    "            }\n",
    "            for exp_name, exp_data in sorted(category_data.items())\n",
    "        }\n",
    "        for category, category_data in sorted(data.items())\n",
    "    }\n",
    "    with open(cardlist_file_path, \"w\") as file:\n",
    "        json.dump(sorted_data, file, indent=4)"
   ]
  },
  {
   "cell_type": "code",
   "execution_count": 12,
   "id": "3e6d1b81-4c8f-4f5d-a363-22f99fb44d3b",
   "metadata": {},
   "outputs": [],
   "source": [
    "URL = f\"https://www.cardmarket.com/en/{tcg}/Products\"\n",
    "URL_expansions = f\"https://www.cardmarket.com/en/{tcg}/Expansions\"\n",
    "headers = {\n",
    "    'User-Agent': 'Mozilla/5.0 (X11; Linux x86_64) AppleWebKit/537.36 (KHTML, like Gecko) Chrome/127.0.0.0 Safari/537.36'\n",
    "}"
   ]
  },
  {
   "cell_type": "code",
   "execution_count": 14,
   "id": "96848724-c27a-4502-b325-d2e6c1b0a52a",
   "metadata": {},
   "outputs": [],
   "source": [
    "def random_delay(min_delay=3, max_delay=10):\n",
    "    time.sleep(random.uniform(min_delay, max_delay))"
   ]
  },
  {
   "cell_type": "code",
   "execution_count": 16,
   "id": "b6cab310-c341-4d79-943e-01f1c9ffae0b",
   "metadata": {},
   "outputs": [],
   "source": [
    "def setup_driver():\n",
    "    options = Options()\n",
    "    # options.add_argument('--headless')\n",
    "    options.add_argument('--disable-gpu')\n",
    "    options.add_argument('--no-sandbox')\n",
    "    options.add_argument('--disable-blink-features=AutomationControlled')\n",
    "    driver = webdriver.Chrome(service=ChromeService(ChromeDriverManager().install()), options=options)\n",
    "    driver.set_window_size(random.randint(800, 1200), random.randint(600, 800))\n",
    "    actions = ActionChains(driver)\n",
    "    print(\"Driver set\")\n",
    "    \n",
    "    # Accepting Cookies\n",
    "    driver.get(URL)\n",
    "    cookie_button = \"\"\"//*[@id=\"CookiesConsent\"]/div/div/form/div/button\"\"\"\n",
    "    cookie_btn = driver.find_element(By.XPATH, cookie_button)\n",
    "    random_delay(4, 6)\n",
    "    try:\n",
    "        cookie_btn.click()\n",
    "        print(\"Cookie Accepted\")\n",
    "        random_delay(2, 3)\n",
    "    except Exception as e:\n",
    "        print(f'Could not click on cookie button {url}: {e}')\n",
    "    return driver, actions"
   ]
  },
  {
   "cell_type": "code",
   "execution_count": 18,
   "id": "ea3ca44e-bf5c-413f-a4f3-98c79f8c4586",
   "metadata": {},
   "outputs": [
    {
     "name": "stdout",
     "output_type": "stream",
     "text": [
      "Driver set\n",
      "Cookie Accepted\n"
     ]
    }
   ],
   "source": [
    "driver, actions = setup_driver()"
   ]
  },
  {
   "cell_type": "code",
   "execution_count": 20,
   "id": "247376e6-01f8-43f2-aa6b-81a96d116fee",
   "metadata": {},
   "outputs": [],
   "source": [
    "last_n_years = 1"
   ]
  },
  {
   "cell_type": "code",
   "execution_count": 22,
   "id": "64d760b9-40d1-48ee-ae14-1fe1f8b2de61",
   "metadata": {},
   "outputs": [],
   "source": [
    "def get_expansions(expansions):\n",
    "    global driver, actions\n",
    "    url = f\"{URL_expansions}\"\n",
    "    driver.get(url)\n",
    "    random_delay(2, 3)\n",
    "    years = driver.find_element(By.ID, \"ExpansionList\").find_elements(By.CLASS_NAME, \"expansion-group\")\n",
    "    counter = 0\n",
    "    for year in years:\n",
    "        if counter == last_n_years:\n",
    "            break\n",
    "        y = int(year.find_element(By.TAG_NAME, 'h2').text.split('\\n')[0])\n",
    "        print(f\"Getting expansions for year {y}\")\n",
    "        random_delay(2, 6)\n",
    "        driver.execute_script(\"window.scrollTo(0, document.body.scrollHeight);\")\n",
    "        expansion_divs = year.find_elements(By.CLASS_NAME, \"expansion-row\")\n",
    "        for div in expansion_divs:\n",
    "            expansion = div.get_attribute(\"data-url\").split('/')[-1]\n",
    "            if expansion not in expansions:\n",
    "                expansions.append(expansion)\n",
    "        counter += 1"
   ]
  },
  {
   "cell_type": "code",
   "execution_count": 24,
   "id": "6dba2a0e-07a5-4398-9cbb-08ca4eba2873",
   "metadata": {
    "scrolled": true
   },
   "outputs": [
    {
     "name": "stdout",
     "output_type": "stream",
     "text": [
      "Getting expansions for year 2024\n"
     ]
    }
   ],
   "source": [
    "expansions = []\n",
    "get_expansions(expansions)"
   ]
  },
  {
   "cell_type": "code",
   "execution_count": 25,
   "id": "e4de52ab-5cc4-4cc4-a5a0-181b0ac13992",
   "metadata": {},
   "outputs": [
    {
     "data": {
      "text/plain": [
       "32"
      ]
     },
     "execution_count": 25,
     "metadata": {},
     "output_type": "execute_result"
    }
   ],
   "source": [
    "len(expansions)"
   ]
  },
  {
   "cell_type": "code",
   "execution_count": 28,
   "id": "79ca0300-1395-45ef-867b-d82c23013312",
   "metadata": {},
   "outputs": [
    {
     "name": "stdout",
     "output_type": "stream",
     "text": [
      "Crossover-Breakers\n"
     ]
    }
   ],
   "source": [
    "for expansion in expansions:\n",
    "    if expansion not in data['Singles']:\n",
    "        data['Singles'][expansion] = {}\n",
    "        print(expansion)"
   ]
  },
  {
   "cell_type": "code",
   "execution_count": 30,
   "id": "c07b154a-ecd9-467d-889a-9489fc0a9eac",
   "metadata": {},
   "outputs": [],
   "source": [
    "save_data(data)"
   ]
  },
  {
   "cell_type": "code",
   "execution_count": 32,
   "id": "d0af1d2e-0607-41a4-9fea-a7d6199fc6ea",
   "metadata": {},
   "outputs": [],
   "source": [
    "def get_cards(expansion, cards):\n",
    "    url = f\"{URL}/Singles/{expansion}\"\n",
    "    driver.get(url)\n",
    "    random_delay(2, 3)\n",
    "    try:\n",
    "        no_res = driver.find_element(By.CLASS_NAME, \"noResults\").text\n",
    "        if no_res != '':\n",
    "            print(f\"Could not get {expansion}. No Results\")\n",
    "            return 0\n",
    "    except Exception as e:\n",
    "        pass\n",
    "    pages = int(driver.find_element(By.ID, \"pagination\").text.split(' ')[-1].strip('+'))\n",
    "    for page in range(1, pages+1):\n",
    "        page_url = f\"{URL}/Singles/{expansion}?idRarity=0&site={page}\"\n",
    "        random_delay(2, 6)\n",
    "        driver.get(page_url)\n",
    "        random_delay(1, 3)\n",
    "        # actions.move_by_offset(random.randint(0, 100), random.randint(0, 100)).perform()\n",
    "        driver.execute_script(\"window.scrollTo(0, document.body.scrollHeight);\")\n",
    "        random_delay(2, 6)\n",
    "\n",
    "        card_names = []\n",
    "        cols = driver.find_element(By.CLASS_NAME, \"table-body\").find_elements(By.CLASS_NAME, \"col-10\")\n",
    "        for col in cols:\n",
    "            card_name = col.find_element(By.TAG_NAME, 'a').get_attribute(\"href\").split('/')[-1]\n",
    "            card_names.append(card_name)\n",
    "\n",
    "        card_prices = []\n",
    "        cols_price = driver.find_element(By.CLASS_NAME, \"table-body\").find_elements(By.CLASS_NAME, \"col-price\")\n",
    "        for col_price in cols_price:\n",
    "            try:\n",
    "                card_price = float(col_price.text.split(' ')[0].replace(',', '.'))\n",
    "            except Exception as e:\n",
    "                print(f\"Could not get price for {card_names[cols_price.index(col_price)]}. error: {e}\")\n",
    "                card_price = 0.0\n",
    "            card_prices.append(card_price)\n",
    "        for i in range(len(card_names)):\n",
    "            card = {card_names[i]: card_prices[i]} if i < len(card_prices) else {card_names[i]: 0.0}\n",
    "            cards.append(card)"
   ]
  },
  {
   "cell_type": "code",
   "execution_count": 34,
   "id": "8a05fb30-68f2-4e8a-8da7-b844bd9b9cad",
   "metadata": {},
   "outputs": [],
   "source": [
    "try:\n",
    "    with open(finished_expansions_file_path, \"r\") as file:\n",
    "        finished_expansions = json.load(file)\n",
    "except Exception as e:\n",
    "    finished_expansions = []"
   ]
  },
  {
   "cell_type": "code",
   "execution_count": 36,
   "id": "abe38dcd-6cdf-4f7b-b047-ad47e6fe2f9b",
   "metadata": {},
   "outputs": [],
   "source": [
    "def save_finished_expansions(finished_expansions):\n",
    "    with open(finished_expansions_file_path, \"w\") as file:\n",
    "        json.dump(sorted(finished_expansions), file, indent=4)"
   ]
  },
  {
   "cell_type": "code",
   "execution_count": 38,
   "id": "75548e0c-4c01-46da-9f36-cb25f87cd8b1",
   "metadata": {
    "scrolled": true
   },
   "outputs": [
    {
     "name": "stdout",
     "output_type": "stream",
     "text": [
      "Left 144 expansions\n",
      "Getting cards for 2020-Tin-of-Lost-Memories\n",
      "Could not get 2020-Tin-of-Lost-Memories. No Results\n",
      "Driver set\n",
      "Cookie Accepted\n",
      "Getting cards for 25th-Anniversary\n",
      "Could not get 25th-Anniversary. No Results\n",
      "Driver set\n",
      "Cookie Accepted\n",
      "Getting cards for 25th-Anniversary-Tin-Dueling-Mirrors\n",
      "Driver set\n",
      "Cookie Accepted\n",
      "Getting cards for Absolute-Powerforce-Japanese\n",
      "Could not get price for Dragon-Queen-of-Tragic-Endings. error: could not convert string to float: 'N/A'\n",
      "Could not get price for Consecrated-Light. error: could not convert string to float: 'N/A'\n",
      "Could not get price for Iron-Core-Specimen-Lab. error: could not convert string to float: 'N/A'\n",
      "Could not get price for Pandaborg. error: could not convert string to float: 'N/A'\n",
      "Could not get price for Codarus. error: could not convert string to float: 'N/A'\n",
      "Could not get price for Rocket-Pilder. error: could not convert string to float: 'N/A'\n",
      "Could not get price for Break-Draw. error: could not convert string to float: 'N/A'\n",
      "Could not get price for Pot-of-Benevolence. error: could not convert string to float: 'N/A'\n",
      "Could not get price for Destruct-Potion. error: could not convert string to float: 'N/A'\n",
      "Could not get price for Widespread-Dud. error: could not convert string to float: 'N/A'\n",
      "Driver set\n"
     ]
    },
    {
     "ename": "KeyboardInterrupt",
     "evalue": "",
     "output_type": "error",
     "traceback": [
      "\u001b[0;31m---------------------------------------------------------------------------\u001b[0m",
      "\u001b[0;31mKeyboardInterrupt\u001b[0m                         Traceback (most recent call last)",
      "Cell \u001b[0;32mIn[38], line 23\u001b[0m\n\u001b[1;32m     21\u001b[0m cards \u001b[38;5;241m=\u001b[39m []\n\u001b[1;32m     22\u001b[0m driver\u001b[38;5;241m.\u001b[39mquit()\n\u001b[0;32m---> 23\u001b[0m driver, actions \u001b[38;5;241m=\u001b[39m setup_driver()\n",
      "Cell \u001b[0;32mIn[16], line 16\u001b[0m, in \u001b[0;36msetup_driver\u001b[0;34m()\u001b[0m\n\u001b[1;32m     14\u001b[0m cookie_button \u001b[38;5;241m=\u001b[39m \u001b[38;5;124m\"\"\"\u001b[39m\u001b[38;5;124m//*[@id=\u001b[39m\u001b[38;5;124m\"\u001b[39m\u001b[38;5;124mCookiesConsent\u001b[39m\u001b[38;5;124m\"\u001b[39m\u001b[38;5;124m]/div/div/form/div/button\u001b[39m\u001b[38;5;124m\"\"\"\u001b[39m\n\u001b[1;32m     15\u001b[0m cookie_btn \u001b[38;5;241m=\u001b[39m driver\u001b[38;5;241m.\u001b[39mfind_element(By\u001b[38;5;241m.\u001b[39mXPATH, cookie_button)\n\u001b[0;32m---> 16\u001b[0m random_delay(\u001b[38;5;241m4\u001b[39m, \u001b[38;5;241m6\u001b[39m)\n\u001b[1;32m     17\u001b[0m \u001b[38;5;28;01mtry\u001b[39;00m:\n\u001b[1;32m     18\u001b[0m     cookie_btn\u001b[38;5;241m.\u001b[39mclick()\n",
      "Cell \u001b[0;32mIn[14], line 2\u001b[0m, in \u001b[0;36mrandom_delay\u001b[0;34m(min_delay, max_delay)\u001b[0m\n\u001b[1;32m      1\u001b[0m \u001b[38;5;28;01mdef\u001b[39;00m \u001b[38;5;21mrandom_delay\u001b[39m(min_delay\u001b[38;5;241m=\u001b[39m\u001b[38;5;241m3\u001b[39m, max_delay\u001b[38;5;241m=\u001b[39m\u001b[38;5;241m10\u001b[39m):\n\u001b[0;32m----> 2\u001b[0m     time\u001b[38;5;241m.\u001b[39msleep(random\u001b[38;5;241m.\u001b[39muniform(min_delay, max_delay))\n",
      "\u001b[0;31mKeyboardInterrupt\u001b[0m: "
     ]
    }
   ],
   "source": [
    "cards = []\n",
    "selected_expansions = list(data['Singles'].keys())\n",
    "selected_expansions = [e for e in selected_expansions if e not in finished_expansions]\n",
    "print(f'Left {len(selected_expansions)} expansions')\n",
    "for expansion in selected_expansions:\n",
    "    print(f\"Getting cards for {expansion}\")\n",
    "    get_cards(expansion, cards)\n",
    "    for card in cards:\n",
    "        for card_name, card_price in card.items():\n",
    "            if card_name not in data['Singles'][expansion]:\n",
    "                card = {card_name: {\n",
    "                    \"quantity\": 0,\n",
    "                    \"price_from\": card_price,\n",
    "                    \"price_trend\": 0.0,\n",
    "                    \"price_30_day_avg\": 0.0\n",
    "                    }}\n",
    "                data['Singles'][expansion].update(card)\n",
    "    finished_expansions.append(expansion)\n",
    "    save_finished_expansions(finished_expansions)\n",
    "    save_data(data)\n",
    "    cards = []\n",
    "    driver.quit()\n",
    "    driver, actions = setup_driver()"
   ]
  },
  {
   "cell_type": "code",
   "execution_count": null,
   "id": "735f743b-0e36-414c-9a4c-43d2a1ee5d9d",
   "metadata": {},
   "outputs": [],
   "source": [
    "driver.quit()"
   ]
  },
  {
   "cell_type": "code",
   "execution_count": null,
   "id": "f3be578a-48b4-4a9c-ade0-92f2cfa2cb1a",
   "metadata": {},
   "outputs": [],
   "source": []
  }
 ],
 "metadata": {
  "kernelspec": {
   "display_name": "Python 3 (ipykernel)",
   "language": "python",
   "name": "python3"
  },
  "language_info": {
   "codemirror_mode": {
    "name": "ipython",
    "version": 3
   },
   "file_extension": ".py",
   "mimetype": "text/x-python",
   "name": "python",
   "nbconvert_exporter": "python",
   "pygments_lexer": "ipython3",
   "version": "3.11.7"
  }
 },
 "nbformat": 4,
 "nbformat_minor": 5
}
