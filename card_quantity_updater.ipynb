{
 "cells": [
  {
   "cell_type": "code",
   "execution_count": null,
   "id": "0",
   "metadata": {},
   "outputs": [],
   "source": [
    "\n",
    "import json\n",
    "import os"
   ]
  },
  {
   "cell_type": "code",
   "execution_count": null,
   "id": "1",
   "metadata": {},
   "outputs": [],
   "source": [
    "tcg = 'YuGiOh'"
   ]
  },
  {
   "cell_type": "code",
   "execution_count": null,
   "id": "2",
   "metadata": {},
   "outputs": [],
   "source": [
    "cardlist_file_path = f\"{os.getcwd()}/data/{tcg}/cardlist.json\"\n",
    "working_expansion_file_path = f\"{os.getcwd()}/data/{tcg}/working-expansion.json\""
   ]
  },
  {
   "cell_type": "code",
   "execution_count": null,
   "id": "3",
   "metadata": {},
   "outputs": [],
   "source": [
    "def save_data(data):\n",
    "    sorted_data = {\n",
    "        category: {\n",
    "            exp_name: {\n",
    "                card_name: card_data\n",
    "                for card_name, card_data in sorted(exp_data.items())\n",
    "            }\n",
    "            for exp_name, exp_data in sorted(category_data.items())\n",
    "        }\n",
    "        for category, category_data in sorted(data.items())\n",
    "    }\n",
    "    with open(cardlist_file_path, \"w\") as file:\n",
    "        json.dump(sorted_data, file, indent=4)"
   ]
  },
  {
   "cell_type": "code",
   "execution_count": null,
   "id": "4",
   "metadata": {},
   "outputs": [],
   "source": [
    "def set_working_expansion(data):\n",
    "    os.makedirs(os.path.dirname(working_expansion_file_path), exist_ok=True)\n",
    "    with open(working_expansion_file_path, \"w\") as file:\n",
    "        json.dump(data, file, indent=4)"
   ]
  },
  {
   "cell_type": "code",
   "execution_count": null,
   "id": "5",
   "metadata": {},
   "outputs": [],
   "source": [
    "def get_working_expansion():\n",
    "    try:\n",
    "        with open(working_expansion_file_path, \"r\") as file:\n",
    "            data = json.load(file)\n",
    "    except Exception as e:\n",
    "        data = {}\n",
    "    return data"
   ]
  },
  {
   "cell_type": "code",
   "execution_count": null,
   "id": "6",
   "metadata": {},
   "outputs": [],
   "source": [
    "try:\n",
    "    with open(cardlist_file_path, \"r\") as file:\n",
    "        data = json.load(file)\n",
    "except Exception as e:\n",
    "    data = {}"
   ]
  },
  {
   "cell_type": "code",
   "execution_count": null,
   "id": "7",
   "metadata": {},
   "outputs": [],
   "source": [
    "expansion = 'Starter-Deck-Codebreaker'"
   ]
  },
  {
   "cell_type": "code",
   "execution_count": null,
   "id": "8",
   "metadata": {},
   "outputs": [],
   "source": [
    "for card_name, card_info in data['Singles'][expansion].items():\n",
    "    card_info['quantity'] = 1"
   ]
  },
  {
   "cell_type": "code",
   "execution_count": null,
   "id": "9",
   "metadata": {},
   "outputs": [],
   "source": [
    "# MAKE SURE TO SET PROPER EXPANSION"
   ]
  },
  {
   "cell_type": "code",
   "execution_count": null,
   "id": "10",
   "metadata": {},
   "outputs": [],
   "source": [
    "# TRIPLE CHECK SET EXPANSION BEFORE CONTINUING "
   ]
  },
  {
   "cell_type": "code",
   "execution_count": null,
   "id": "11",
   "metadata": {},
   "outputs": [],
   "source": [
    "# HUMAN ERROR COULD LEAD TO DATA LOSS"
   ]
  },
  {
   "cell_type": "code",
   "execution_count": null,
   "id": "12",
   "metadata": {},
   "outputs": [],
   "source": [
    "set_working_expansion(data['Singles'][expansion])"
   ]
  },
  {
   "cell_type": "code",
   "execution_count": null,
   "id": "13",
   "metadata": {},
   "outputs": [],
   "source": [
    "# GO WORK ON SET EXPANSION"
   ]
  },
  {
   "cell_type": "code",
   "execution_count": null,
   "id": "14",
   "metadata": {},
   "outputs": [],
   "source": [
    "# YOU ARE WORKING"
   ]
  },
  {
   "cell_type": "code",
   "execution_count": null,
   "id": "15",
   "metadata": {},
   "outputs": [],
   "source": [
    "# JUST MAKING SURE YOU ARE FINISHED"
   ]
  },
  {
   "cell_type": "code",
   "execution_count": null,
   "id": "16",
   "metadata": {},
   "outputs": [],
   "source": [
    "updated_expansion_data = get_working_expansion()\n",
    "if not updated_expansion_data:\n",
    "    print('No expansion data')"
   ]
  },
  {
   "cell_type": "code",
   "execution_count": null,
   "id": "17",
   "metadata": {},
   "outputs": [],
   "source": [
    "data['Singles'][expansion] = updated_expansion_data"
   ]
  },
  {
   "cell_type": "code",
   "execution_count": null,
   "id": "18",
   "metadata": {},
   "outputs": [],
   "source": [
    "save_data(data)"
   ]
  },
  {
   "cell_type": "code",
   "execution_count": null,
   "id": "19",
   "metadata": {},
   "outputs": [],
   "source": []
  }
 ],
 "metadata": {
  "kernelspec": {
   "display_name": "Python 3 (ipykernel)",
   "language": "python",
   "name": "python3"
  },
  "language_info": {
   "codemirror_mode": {
    "name": "ipython",
    "version": 3
   },
   "file_extension": ".py",
   "mimetype": "text/x-python",
   "name": "python",
   "nbconvert_exporter": "python",
   "pygments_lexer": "ipython3",
   "version": "3.11.7"
  }
 },
 "nbformat": 4,
 "nbformat_minor": 5
}
