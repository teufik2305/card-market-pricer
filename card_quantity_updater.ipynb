{
 "cells": [
  {
   "cell_type": "code",
   "execution_count": 2,
   "id": "7092455d-ea9a-491c-91b7-2b609f8c907e",
   "metadata": {},
   "outputs": [],
   "source": [
    "\n",
    "import json\n",
    "import os"
   ]
  },
  {
   "cell_type": "code",
   "execution_count": 4,
   "id": "33d7ddf4",
   "metadata": {},
   "outputs": [],
   "source": [
    "tcg = 'YuGiOh'"
   ]
  },
  {
   "cell_type": "code",
   "execution_count": 6,
   "id": "1e8a5f1e-9d53-4eae-9b6a-73f9faa9a2bf",
   "metadata": {},
   "outputs": [],
   "source": [
    "cardlist_file_path = f\"{os.getcwd()}/data/{tcg}/cardlist.json\"\n",
    "working_expansion_file_path = f\"{os.getcwd()}/data/{tcg}/working-expansion.json\""
   ]
  },
  {
   "cell_type": "code",
   "execution_count": 8,
   "id": "30180b9c-cd81-4287-84ac-c5b781ee2d1a",
   "metadata": {},
   "outputs": [],
   "source": [
    "def save_data(data):\n",
    "    sorted_data = {\n",
    "        category: {\n",
    "            exp_name: {\n",
    "                card_name: card_data\n",
    "                for card_name, card_data in sorted(exp_data.items())\n",
    "            }\n",
    "            for exp_name, exp_data in sorted(category_data.items())\n",
    "        }\n",
    "        for category, category_data in sorted(data.items())\n",
    "    }\n",
    "    with open(cardlist_file_path, \"w\") as file:\n",
    "        json.dump(sorted_data, file, indent=4)"
   ]
  },
  {
   "cell_type": "code",
   "execution_count": 10,
   "id": "665189b7-7c42-4a90-a453-fe79afb8d349",
   "metadata": {},
   "outputs": [],
   "source": [
    "def set_working_expansion(data):\n",
    "    with open(working_expansion_file_path, \"w\") as file:\n",
    "        json.dump(data, file, indent=4)"
   ]
  },
  {
   "cell_type": "code",
   "execution_count": 12,
   "id": "0a45503a-5922-49f2-a855-73fab8a2f894",
   "metadata": {},
   "outputs": [],
   "source": [
    "def get_working_expansion():\n",
    "    try:\n",
    "        with open(working_expansion_file_path, \"r\") as file:\n",
    "            data = json.load(file)\n",
    "    except Exception as e:\n",
    "        data = {}\n",
    "    return data"
   ]
  },
  {
   "cell_type": "code",
   "execution_count": 14,
   "id": "fa959206-ffdf-40b2-b541-c19add3b6105",
   "metadata": {},
   "outputs": [],
   "source": [
    "try:\n",
    "    with open(cardlist_file_path, \"r\") as file:\n",
    "        data = json.load(file)\n",
    "except Exception as e:\n",
    "    data = {}"
   ]
  },
  {
   "cell_type": "code",
   "execution_count": 16,
   "id": "8db99cf5-393d-4f6e-b38a-ac18193eeffe",
   "metadata": {},
   "outputs": [],
   "source": [
    "expansion = 'Soul-Fusion'"
   ]
  },
  {
   "cell_type": "code",
   "execution_count": 18,
   "id": "e6d1b655-b45b-4db0-a908-4c13cb21a69c",
   "metadata": {},
   "outputs": [],
   "source": [
    "# for card_name, card_info in data['Singles'][expansion].items():\n",
    "#     card_info['quantity'] = 1"
   ]
  },
  {
   "cell_type": "code",
   "execution_count": 19,
   "id": "2e58ca02-86df-4646-8d31-7fe636b162c9",
   "metadata": {},
   "outputs": [],
   "source": [
    "# MAKE SURE TO SET PROPER EXPANSION"
   ]
  },
  {
   "cell_type": "code",
   "execution_count": 22,
   "id": "e91e3732-afea-4308-b100-bbfda0910ea9",
   "metadata": {},
   "outputs": [],
   "source": [
    "# TRIPLE CHECK SET EXPANSION BEFORE CONTINUING "
   ]
  },
  {
   "cell_type": "code",
   "execution_count": 24,
   "id": "460b4841-e437-4f3f-9996-623500f049fd",
   "metadata": {},
   "outputs": [],
   "source": [
    "# HUMAN ERROR COULD LEAD TO DATA LOSS"
   ]
  },
  {
   "cell_type": "code",
   "execution_count": 26,
   "id": "ba7f0c89-5acd-4cfc-a407-74876d031573",
   "metadata": {},
   "outputs": [],
   "source": [
    "set_working_expansion(data['Singles'][expansion])"
   ]
  },
  {
   "cell_type": "code",
   "execution_count": 309,
   "id": "c3354278-d36c-4def-8ba2-e35fdab83c75",
   "metadata": {},
   "outputs": [],
   "source": [
    "# GO WORK ON SET EXPANSION"
   ]
  },
  {
   "cell_type": "code",
   "execution_count": 311,
   "id": "5edb66c7-8860-4935-8f77-6b998cfaf218",
   "metadata": {},
   "outputs": [],
   "source": [
    "# YOU ARE WORKING"
   ]
  },
  {
   "cell_type": "code",
   "execution_count": 313,
   "id": "40687b59-b94e-4521-bea3-3e96a2c1dea7",
   "metadata": {},
   "outputs": [],
   "source": [
    "# JUST MAKING SURE YOU ARE FINISHED"
   ]
  },
  {
   "cell_type": "code",
   "execution_count": 315,
   "id": "feffc99c-74c7-49fe-befa-28291564916f",
   "metadata": {},
   "outputs": [],
   "source": [
    "updated_expansion_data = get_working_expansion()\n",
    "if not updated_expansion_data:\n",
    "    print('No expansion data')"
   ]
  },
  {
   "cell_type": "code",
   "execution_count": 316,
   "id": "5856dc2d-8434-48ff-aeae-10484d8325ff",
   "metadata": {},
   "outputs": [],
   "source": [
    "data['Singles'][expansion] = updated_expansion_data"
   ]
  },
  {
   "cell_type": "code",
   "execution_count": 319,
   "id": "89f793f0-e6c4-4037-a520-31780df0f8c3",
   "metadata": {},
   "outputs": [],
   "source": [
    "save_data(data)"
   ]
  },
  {
   "cell_type": "code",
   "execution_count": null,
   "id": "21117da6-8f92-4bb3-ac80-19acd3eba510",
   "metadata": {},
   "outputs": [],
   "source": []
  }
 ],
 "metadata": {
  "kernelspec": {
   "display_name": "Python 3 (ipykernel)",
   "language": "python",
   "name": "python3"
  },
  "language_info": {
   "codemirror_mode": {
    "name": "ipython",
    "version": 3
   },
   "file_extension": ".py",
   "mimetype": "text/x-python",
   "name": "python",
   "nbconvert_exporter": "python",
   "pygments_lexer": "ipython3",
   "version": "3.11.7"
  }
 },
 "nbformat": 4,
 "nbformat_minor": 5
}
