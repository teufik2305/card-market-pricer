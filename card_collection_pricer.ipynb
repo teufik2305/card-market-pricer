{
 "cells": [
  {
   "cell_type": "code",
   "execution_count": null,
   "id": "0",
   "metadata": {},
   "outputs": [],
   "source": [
    "import time\n",
    "import random\n",
    "import json\n",
    "import pandas as pd\n",
    "import os\n",
    "from selenium import webdriver\n",
    "from selenium.webdriver.common.by import By\n",
    "from selenium.webdriver.common.action_chains import ActionChains\n",
    "from selenium.webdriver.chrome.service import Service as ChromeService\n",
    "from selenium.webdriver.chrome.options import Options\n",
    "from webdriver_manager.chrome import ChromeDriverManager"
   ]
  },
  {
   "cell_type": "code",
   "execution_count": null,
   "id": "1",
   "metadata": {},
   "outputs": [],
   "source": [
    "my_ygo_expansions = ['2018-MegaTin-Mega-Pack',\n",
    " '2019-Gold-Sarcophagus-Tin-Mega-Pack',\n",
    " '2020-Tin-of-Lost-Memories-Mega-Pack',\n",
    " '2021-Tin-of-Ancient-Battles',\n",
    " '2022-Ghosts-From-the-Past',\n",
    " '2022-Tin-of-the-Pharaohs-Gods',\n",
    " '20th-Anniversary-Legend-Collection',\n",
    " '25th-Anniversary-Rarity-Collection',\n",
    " '25th-Anniversary-Tin-Dueling-Heroes-Mega-Pack',\n",
    " '2Player-Starter-Deck-Yuya-Declan',\n",
    " '3D-Bonds-Beyond-Time-Movie-Pack',\n",
    " 'Age-of-Overlord',\n",
    " 'Amazing-Defenders',\n",
    " 'Ancient-Prophecy',\n",
    " 'Battle-Pack-2-War-of-the-Giants',\n",
    " 'Battle-Pack-Epic-Dawn',\n",
    " 'Battle-of-Chaos',\n",
    " 'Battles-of-Legend-Armageddon',\n",
    " 'Battles-of-Legend-Crystal-Revenge',\n",
    " 'Battles-of-Legend-Heros-Revenge',\n",
    " 'Battles-of-Legend-Lights-Revenge',\n",
    " 'Battles-of-Legend-Monstrous-Revenge',\n",
    " 'Battles-of-Legend-Relentless-Revenge',\n",
    " 'Blazing-Vortex',\n",
    " 'Breakers-of-Shadow',\n",
    " 'Brothers-of-Legend',\n",
    " 'Burst-of-Destiny',\n",
    " 'Circuit-Break',\n",
    " 'Code-of-the-Duelist',\n",
    " 'Collectors-Tins-2011',\n",
    " 'Cybernetic-Horizon',\n",
    " 'Cyberstorm-Access',\n",
    " 'Dark-Crisis-25th-Anniversary-Edition',\n",
    " 'Dark-Saviors',\n",
    " 'Darkwing-Blast',\n",
    " 'Dawn-of-Majesty',\n",
    " 'Demo-Pack',\n",
    " 'Dimension-Force',\n",
    " 'Duel-Devastator',\n",
    " 'Duel-Overload',\n",
    " 'Duel-Power',\n",
    " 'Duelist-Entry-Deck-VS',\n",
    " 'Duelist-Nexus',\n",
    " 'Duelist-Pack-Jaden-Yuki-2',\n",
    " 'Duelist-Pack-Jesse-Anderson',\n",
    " 'Duelist-Pack-Kaiba',\n",
    " 'Duelist-Pack-Zane-Truesdale',\n",
    " 'Egyptian-God-Deck-Obelisk-the-Tormentor',\n",
    " 'Egyptian-God-Deck-Slifer-the-Sky-Dragon',\n",
    " 'Eternity-Code',\n",
    " 'Extreme-Force',\n",
    " 'Fists-of-the-Gadgets',\n",
    " 'Flames-of-Destruction',\n",
    " 'Force-of-the-Breaker',\n",
    " 'Fusion-Enforcers',\n",
    " 'Genesis-Impact',\n",
    " 'Hidden-Arsenal-Chapter-1',\n",
    " 'Hidden-Summoners',\n",
    " 'Ignition-Assault',\n",
    " 'Invasion-of-Chaos-25th-Anniversary-Edition',\n",
    " 'Kings-Court',\n",
    " 'Legacy-of-Destruction',\n",
    " 'Legend-of-Blue-Eyes-White-Dragon-25th-Anniversary-Edition',\n",
    " 'Legendary-Collection-2-Mega-Pack',\n",
    " 'Legendary-Collection-2-The-Duel-Academy-Years',\n",
    " 'Legendary-Collection-3-Mega-Pack',\n",
    " 'Legendary-Collection-Kaiba-Mega-Pack',\n",
    " 'Legendary-Decks-II',\n",
    " 'Legendary-Dragon-Decks',\n",
    " 'Legendary-Duelists-9',\n",
    " 'Legendary-Duelists-Ancient-Millennium',\n",
    " 'Legendary-Duelists-Immortal-Destiny',\n",
    " 'Legendary-Duelists-Magical-Hero',\n",
    " 'Legendary-Duelists-Rage-of-Ra',\n",
    " 'Legendary-Duelists-Season-1',\n",
    " 'Legendary-Duelists-Season-2',\n",
    " 'Legendary-Duelists-Season-3',\n",
    " 'Legendary-Duelists-Sisters-of-the-Rose',\n",
    " 'Legendary-Duelists-Synchro-Storm',\n",
    " 'Legendary-Hero-Decks',\n",
    " 'Light-of-Destruction',\n",
    " 'Lightning-Overdrive',\n",
    " 'Lost-Art-Promos',\n",
    " 'Magicians-Force',\n",
    " 'Magnificent-Mavens',\n",
    " 'Maximum-Crisis',\n",
    " 'Maximum-Gold',\n",
    " 'Maximum-Gold-El-Dorado',\n",
    " 'Metal-Raiders-25th-Anniversary-Edition',\n",
    " 'Millennium-Pack',\n",
    " 'Mystic-Fighters',\n",
    " 'OTS-Tournament-Pack-10',\n",
    " 'OTS-Tournament-Pack-13',\n",
    " 'OTS-Tournament-Pack-15',\n",
    " 'OTS-Tournament-Pack-16',\n",
    " 'OTS-Tournament-Pack-18',\n",
    " 'OTS-Tournament-Pack-19',\n",
    " 'OTS-Tournament-Pack-20',\n",
    " 'OTS-Tournament-Pack-7',\n",
    " 'Phantom-Darkness',\n",
    " 'Phantom-Nightmare',\n",
    " 'Phantom-Rage',\n",
    " 'Pharaohs-Servant-25th-Anniversary-Edition',\n",
    " 'Photon-Hypernova',\n",
    " 'Power-of-the-Duelist',\n",
    " 'Power-of-the-Elements',\n",
    " 'Premium-Gold',\n",
    " 'Premium-Gold-Infinite-Gold',\n",
    " 'Premium-Pack-2',\n",
    " 'Ra-Yellow-Mega-Pack',\n",
    " 'Return-of-the-Duelist',\n",
    " 'Rise-of-the-Duelist',\n",
    " 'Rising-Rampage',\n",
    " 'Savage-Strike',\n",
    " 'Scars-of-Battle',\n",
    " 'Secret-Slayers',\n",
    " 'Soul-Fusion',\n",
    " 'Speed-Duel-Battle-City-Box',\n",
    " 'Speed-Duel-GX-Duel-Academy-Box',\n",
    " 'Spell-Ruler-25th-Anniversary-Edition',\n",
    " 'Star-Pack-2013',\n",
    " 'Star-Pack-VRAINS',\n",
    " 'Starter-Deck-Codebreaker',\n",
    " 'Starter-Deck-Jaden-Yuki',\n",
    " 'Starter-Deck-Kaiba-Evolution',\n",
    " 'Starter-Deck-Kaiba-Reloaded',\n",
    " 'Starter-Deck-Link-Strike',\n",
    " 'Starter-Deck-Xyz-Symphony',\n",
    " 'Structure-Deck-Albaz-Strike',\n",
    " 'Structure-Deck-Beware-of-Traptrix',\n",
    " 'Structure-Deck-Cyber-Dragon-Revolution',\n",
    " 'Structure-Deck-Cyber-Strike',\n",
    " 'Structure-Deck-Cyberse-Link',\n",
    " 'Structure-Deck-Dinosaurs-Rage',\n",
    " 'Structure-Deck-Dinosmashers-Fury',\n",
    " 'Structure-Deck-Emperor-of-Darkness',\n",
    " 'Structure-Deck-Fury-From-The-Deep',\n",
    " 'Structure-Deck-HERO-Strike',\n",
    " 'Structure-Deck-Legend-of-the-Crystal-Beasts',\n",
    " 'Structure-Deck-Lost-Sanctuary',\n",
    " 'Structure-Deck-Master-of-Pendulum',\n",
    " 'Structure-Deck-Onslaught-of-the-Fire-Kings',\n",
    " 'Structure-Deck-Powercode-Link',\n",
    " 'Structure-Deck-Rise-of-the-Dragon-Lords',\n",
    " 'Structure-Deck-Sacred-Beasts',\n",
    " 'Structure-Deck-Seto-Kaiba',\n",
    " 'Structure-Deck-Shaddoll-Showdown',\n",
    " 'Structure-Deck-Soulburner',\n",
    " 'Structure-Deck-Spellcasters-Command',\n",
    " 'Structure-Deck-Spirit-Charmers',\n",
    " 'Structure-Deck-Synchron-Extreme',\n",
    " 'Structure-Deck-The-Dark-Emperor',\n",
    " 'Structure-Deck-The-Realm-of-Light',\n",
    " 'Structure-Deck-Wave-of-Light',\n",
    " 'Structure-Deck-Zombie-Horde',\n",
    " 'Structure-Deck-Zombie-World',\n",
    " 'Super-Starter-SpaceTime-Showdown',\n",
    " 'Tactical-Masters',\n",
    " 'The-Dark-Side-of-Dimensions-Movie-Pack',\n",
    " 'The-Grand-Creators',\n",
    " 'The-Secret-Forces',\n",
    " 'Toon-Chaos',\n",
    " 'Wild-Survivors',\n",
    " 'Wing-Raiders']\n",
    "expansions = []\n",
    "cards = []\n",
    "category = \"Singles\"\n",
    "tcg = 'YuGiOh'\n",
    "refresh_price = True"
   ]
  },
  {
   "cell_type": "code",
   "execution_count": null,
   "id": "2",
   "metadata": {},
   "outputs": [],
   "source": [
    "counter_threshold = 20"
   ]
  },
  {
   "cell_type": "code",
   "execution_count": null,
   "id": "3",
   "metadata": {},
   "outputs": [],
   "source": [
    "cardlist_file_path = f\"{os.getcwd()}/data/{tcg}/cardlist.json\"\n",
    "updated_cards_prices_file_path = f\"{os.getcwd()}/data/{tcg}/updated-cards-prices.json\"\n",
    "cards_to_keep_file_path = f\"{os.getcwd()}/data/{tcg}/cards-to-keep.json\"\n",
    "export_file_path = f\"{os.getcwd()}/data/{tcg}/collection_worth.xlsx\""
   ]
  },
  {
   "cell_type": "code",
   "execution_count": null,
   "id": "4",
   "metadata": {},
   "outputs": [],
   "source": [
    "URL = f\"https://www.cardmarket.com/en/{tcg}/Products\"\n",
    "headers = {\n",
    "    'User-Agent': 'Mozilla/5.0 (X11; Linux x86_64) AppleWebKit/537.36 (KHTML, like Gecko) Chrome/127.0.0.0 Safari/537.36'\n",
    "}"
   ]
  },
  {
   "cell_type": "code",
   "execution_count": null,
   "id": "5",
   "metadata": {},
   "outputs": [],
   "source": [
    "def load_data():\n",
    "    try:\n",
    "        with open(cardlist_file_path, \"r\") as file:\n",
    "            data = json.load(file)\n",
    "    except Exception as e:\n",
    "        print(f\"Error loading {cardlist_file_path}. error: {e}\")\n",
    "        print(f\"Data is an empty dict\")\n",
    "        data = {}\n",
    "    return data"
   ]
  },
  {
   "cell_type": "code",
   "execution_count": null,
   "id": "6",
   "metadata": {},
   "outputs": [],
   "source": [
    "def save_data(data):\n",
    "    sorted_data = {\n",
    "        category: {\n",
    "            exp_name: {\n",
    "                card_name: card_data\n",
    "                for card_name, card_data in sorted(exp_data.items())\n",
    "            }\n",
    "            for exp_name, exp_data in sorted(category_data.items())\n",
    "        }\n",
    "        for category, category_data in sorted(data.items())\n",
    "    }\n",
    "    with open(cardlist_file_path, \"w\") as file:\n",
    "        json.dump(sorted_data, file, indent=4)"
   ]
  },
  {
   "cell_type": "code",
   "execution_count": null,
   "id": "7",
   "metadata": {},
   "outputs": [],
   "source": [
    "data = load_data()"
   ]
  },
  {
   "cell_type": "code",
   "execution_count": null,
   "id": "8",
   "metadata": {},
   "outputs": [],
   "source": [
    "def setup_driver():\n",
    "    options = Options()\n",
    "    # options.add_argument('--headless')\n",
    "    options.add_argument('--disable-gpu')\n",
    "    options.add_argument('--no-sandbox')\n",
    "    options.add_argument('--disable-blink-features=AutomationControlled')\n",
    "    driver = webdriver.Chrome(service=ChromeService(ChromeDriverManager().install()), options=options)\n",
    "    driver.set_window_size(random.randint(800, 1200), random.randint(600, 800))\n",
    "    actions = ActionChains(driver)\n",
    "    print(\"Driver set\")\n",
    "    \n",
    "    # Accepting Cookies\n",
    "    driver.get(URL)\n",
    "    cookie_button = \"\"\"//*[@id=\"CookiesConsent\"]/div/div/form/div/button\"\"\"\n",
    "    cookie_btn = driver.find_element(By.XPATH, cookie_button)\n",
    "    random_delay(4, 6)\n",
    "    try:\n",
    "        cookie_btn.click()\n",
    "        print(\"Cookie Accepted\")\n",
    "        random_delay(2, 3)\n",
    "    except Exception as e:\n",
    "        print(f'Could not click on cookie button {URL}: {e}')\n",
    "    return driver, actions"
   ]
  },
  {
   "cell_type": "code",
   "execution_count": null,
   "id": "9",
   "metadata": {},
   "outputs": [],
   "source": [
    "def random_delay(min_delay=3, max_delay=10):\n",
    "    time.sleep(random.uniform(min_delay, max_delay))"
   ]
  },
  {
   "cell_type": "code",
   "execution_count": null,
   "id": "10",
   "metadata": {},
   "outputs": [],
   "source": [
    "try:\n",
    "    with open(updated_cards_prices_file_path, \"r\") as file:\n",
    "        updated_cards_prices = json.load(file)\n",
    "except Exception as e:\n",
    "    updated_cards_prices = {}"
   ]
  },
  {
   "cell_type": "code",
   "execution_count": null,
   "id": "11",
   "metadata": {},
   "outputs": [],
   "source": [
    "def save_updated_cards_prices(updated_cards_prices):\n",
    "    os.makedirs(os.path.dirname(updated_cards_prices_file_path), exist_ok=True)\n",
    "    with open(updated_cards_prices_file_path, \"w\") as file:\n",
    "        json.dump(updated_cards_prices, file, indent=4)"
   ]
  },
  {
   "cell_type": "code",
   "execution_count": null,
   "id": "12",
   "metadata": {},
   "outputs": [],
   "source": [
    "price_from = \"\"\"//*[@id=\"tabContent-info\"]/div/div[1]/div/div[2]/dl/dd[6]\"\"\"\n",
    "price_trend = \"\"\"//*[@id=\"tabContent-info\"]/div/div[1]/div/div[2]/dl/dd[7]/span\"\"\"\n",
    "price_30_day_avg = \"\"\"//*[@id=\"tabContent-info\"]/div/div[1]/div/div[2]/dl/dd[8]/span\"\"\""
   ]
  },
  {
   "cell_type": "code",
   "execution_count": null,
   "id": "13",
   "metadata": {},
   "outputs": [],
   "source": [
    "def convert_currency_string(currency_str):\n",
    "    if '£' in currency_str and '.' in currency_str and ',' in currency_str:\n",
    "        currency_str = str(float(currency_str.strip('£').replace('.', '').replace(',', '.'))*1.16).replace('.', ',')\n",
    "    elif '£' in currency_str:\n",
    "        currency_str = str(float(currency_str.strip('£').replace(',', '.'))*1).replace('.', ',')\n",
    "    cleaned_str = currency_str.strip('€ £')\n",
    "    \n",
    "    # If there's a comma and no period, it's likely a decimal comma\n",
    "    if ',' in cleaned_str and '.' not in cleaned_str:\n",
    "        cleaned_str = cleaned_str.replace(',', '.')\n",
    "    else:\n",
    "        # Remove periods used as thousand separators\n",
    "        cleaned_str = cleaned_str.replace('.', '').replace(',', '.')\n",
    "\n",
    "    return float(cleaned_str)"
   ]
  },
  {
   "cell_type": "code",
   "execution_count": null,
   "id": "14",
   "metadata": {},
   "outputs": [],
   "source": [
    "def get_df(data, category, selected_expansions = [], selected_cards = []):\n",
    "    cards = []\n",
    "    for expansion, card_list in data[category].items():\n",
    "        for card_name, card_info in card_list.items():\n",
    "            card_info_copy = card_info.copy()  # Avoid modifying the original data\n",
    "            card_info_copy.update({'expansion': expansion, 'card_name': card_name})\n",
    "            cards.append(card_info_copy)\n",
    "\n",
    "    df = pd.DataFrame(cards).set_index(['expansion', 'card_name'])\n",
    "\n",
    "    if selected_expansions or selected_cards:\n",
    "        df = df.loc[df.index.get_level_values('expansion').isin(selected_expansions) | \n",
    "                    df.index.get_level_values('card_name').isin(selected_cards)].copy()\n",
    "    \n",
    "    df = df[df['quantity'] > 0]\n",
    "    \n",
    "    return df"
   ]
  },
  {
   "cell_type": "code",
   "execution_count": null,
   "id": "15",
   "metadata": {},
   "outputs": [],
   "source": [
    "def get_price(data, category, selected_expansions = [], selected_cards = []):\n",
    "    global driver, actions\n",
    "    df = get_df(data, category, selected_expansions, selected_cards)\n",
    "\n",
    "    counter = 0\n",
    "    for index, row in df.iterrows():\n",
    "        if counter == counter_threshold:\n",
    "            save_data(data)\n",
    "            save_updated_cards_prices(updated_cards_prices)\n",
    "            driver.quit()\n",
    "            driver, actions = setup_driver()\n",
    "            counter = 0\n",
    "        expansion, card_name = index\n",
    "        if expansion in updated_cards_prices and card_name in updated_cards_prices[expansion]:\n",
    "            continue\n",
    "        print(f\"Getting price for: {card_name}\")\n",
    "        url = f\"{URL}/{category}/{expansion}/{card_name}\"\n",
    "        driver.get(url)\n",
    "        random_delay(1, 3)\n",
    "        # actions.move_by_offset(random.randint(0, 100), random.randint(0, 100)).perform()\n",
    "        driver.execute_script(\"window.scrollTo(0, document.body.scrollHeight);\")\n",
    "        random_delay(3, 4)\n",
    "        \n",
    "        try:\n",
    "            p_from = convert_currency_string(driver.find_element(By.XPATH, price_from).text)\n",
    "            df.at[index, 'price_from'] = p_from\n",
    "            data[category][expansion][card_name]['price_from'] = p_from\n",
    "        except Exception as e:\n",
    "            print(f'Could not retrieve price_from for {url}: {e}')\n",
    "        try:\n",
    "            p_trend = convert_currency_string(driver.find_element(By.XPATH, price_trend).text)\n",
    "            data[category][expansion][card_name]['price_trend'] = p_trend\n",
    "        except Exception as e:\n",
    "            print(f'Could not retrieve price_trend for {url}: {e}')\n",
    "        try:\n",
    "            p_30_day = convert_currency_string(driver.find_element(By.XPATH, price_30_day_avg).text)\n",
    "            df.at[index, 'price_30_day_avg'] = p_30_day\n",
    "            data[category][expansion][card_name]['price_30_day_avg'] = p_30_day\n",
    "        except Exception as e:\n",
    "            print(f'Could not retrieve price_30_day_avg for {url}: {e}')\n",
    "\n",
    "        if expansion in updated_cards_prices:\n",
    "            updated_cards_prices[expansion].append(card_name)\n",
    "        else:\n",
    "            updated_cards_prices[expansion] = [card_name]\n",
    "        counter += 1\n",
    "    save_data(data)\n",
    "    save_updated_cards_prices(updated_cards_prices)"
   ]
  },
  {
   "cell_type": "code",
   "execution_count": null,
   "id": "16",
   "metadata": {},
   "outputs": [],
   "source": [
    "# print(convert_currency_string('£1.999,99'))\n",
    "# print(convert_currency_string('£0,17'))\n",
    "# print(convert_currency_string('£0.02'))\n",
    "# print(convert_currency_string('0,317 €'))\n",
    "# print(convert_currency_string('1.999,99  €'))"
   ]
  },
  {
   "cell_type": "code",
   "execution_count": null,
   "id": "17",
   "metadata": {},
   "outputs": [],
   "source": [
    "driver = None\n",
    "if refresh_price:\n",
    "    driver, actions = setup_driver()\n",
    "    get_price(data, category, expansions, cards)"
   ]
  },
  {
   "cell_type": "code",
   "execution_count": null,
   "id": "18",
   "metadata": {},
   "outputs": [],
   "source": [
    "pricing_basis = \"price_trend\""
   ]
  },
  {
   "cell_type": "code",
   "execution_count": null,
   "id": "19",
   "metadata": {},
   "outputs": [],
   "source": [
    "def get_worth(df, pricing_basis=pricing_basis, export=False):\n",
    "    df['total_price_from'] = df['quantity'] * df['price_from']    \n",
    "    df['total_price_trend'] = df['quantity'] * df['price_trend']    \n",
    "    df['total_price_price_30_day_avg'] = df['quantity'] * df['price_30_day_avg']    \n",
    "    \n",
    "    summary_s = df[['quantity', 'total_price_from', 'total_price_trend', 'total_price_price_30_day_avg']].sum()\n",
    "    print(summary_s)\n",
    "    \n",
    "    summary_s['expansion'] = 'Total'\n",
    "    summary_s['card_name'] = 'Total'\n",
    "    summary = summary_s.to_dict()\n",
    "    \n",
    "    # Create a DataFrame for the totals row and concatenate it to the original DataFrame\n",
    "    summary_df = pd.DataFrame([summary]).set_index(['expansion', 'card_name'])\n",
    "    export_df = pd.concat([df, summary_df])\n",
    "    \n",
    "    # Export to Excel if specified\n",
    "    if export:\n",
    "        print(f\"Exported to {export_file_path}\")\n",
    "        export_df.to_excel(export_file_path, float_format='%.2f')\n"
   ]
  },
  {
   "cell_type": "code",
   "execution_count": null,
   "id": "20",
   "metadata": {},
   "outputs": [],
   "source": [
    "df = get_df(data, category, expansions, cards)"
   ]
  },
  {
   "cell_type": "code",
   "execution_count": null,
   "id": "21",
   "metadata": {},
   "outputs": [],
   "source": [
    "get_worth(df, export=True)"
   ]
  },
  {
   "cell_type": "code",
   "execution_count": null,
   "id": "22",
   "metadata": {},
   "outputs": [],
   "source": [
    "bulk_df = df[df['price_trend'] <= 0.5]\n",
    "get_worth(bulk_df)"
   ]
  },
  {
   "cell_type": "code",
   "execution_count": null,
   "id": "23",
   "metadata": {},
   "outputs": [],
   "source": [
    "not_bulk_df = df[df['price_trend'] > 0.5]\n",
    "get_worth(not_bulk_df)"
   ]
  },
  {
   "cell_type": "code",
   "execution_count": null,
   "id": "24",
   "metadata": {},
   "outputs": [],
   "source": [
    "try:\n",
    "    with open(cards_to_keep_file_path, \"r\") as file:\n",
    "        cards_to_keep = json.load(file)\n",
    "except Exception as e:\n",
    "    cards_to_keep = {}"
   ]
  },
  {
   "cell_type": "code",
   "execution_count": null,
   "id": "25",
   "metadata": {},
   "outputs": [],
   "source": [
    "filter = ['Neos','Rainbow-Dragon']"
   ]
  },
  {
   "cell_type": "code",
   "execution_count": null,
   "id": "26",
   "metadata": {},
   "outputs": [],
   "source": [
    "mask = df.index.get_level_values(1).str.contains('|'.join(filter), case=False, na=False)\n",
    "filtered_df = df[mask]\n",
    "get_worth(filtered_df)"
   ]
  },
  {
   "cell_type": "code",
   "execution_count": null,
   "id": "27",
   "metadata": {},
   "outputs": [],
   "source": [
    "for c in list(filtered_df.index):\n",
    "    if c[0] in cards_to_keep:\n",
    "        if c[1] not in cards_to_keep[c[0]]:\n",
    "            print(f\"{c[0]}: {c[1]}\")\n",
    "            cards_to_keep[c[0]].append(c[1])\n",
    "    else:\n",
    "        cards_to_keep[c[0]] = [c[1]]"
   ]
  },
  {
   "cell_type": "code",
   "execution_count": null,
   "id": "28",
   "metadata": {},
   "outputs": [],
   "source": [
    "def save_cards_to_keep(cards_to_keep):\n",
    "    os.makedirs(os.path.dirname(cards_to_keep_file_path), exist_ok=True)\n",
    "    with open(cards_to_keep_file_path, \"w\") as file:\n",
    "        json.dump(cards_to_keep, file, indent=4)"
   ]
  },
  {
   "cell_type": "code",
   "execution_count": null,
   "id": "29",
   "metadata": {},
   "outputs": [],
   "source": [
    "save_cards_to_keep(cards_to_keep)"
   ]
  },
  {
   "cell_type": "code",
   "execution_count": null,
   "id": "30",
   "metadata": {},
   "outputs": [],
   "source": [
    "# df[(df['price_from'] > df['price_trend']*1.2) & (df['quantity'] > 0)]"
   ]
  },
  {
   "cell_type": "code",
   "execution_count": null,
   "id": "31",
   "metadata": {},
   "outputs": [],
   "source": [
    "if driver:\n",
    "    driver.quit()"
   ]
  }
 ],
 "metadata": {
  "kernelspec": {
   "display_name": "Python 3 (ipykernel)",
   "language": "python",
   "name": "python3"
  },
  "language_info": {
   "codemirror_mode": {
    "name": "ipython",
    "version": 3
   },
   "file_extension": ".py",
   "mimetype": "text/x-python",
   "name": "python",
   "nbconvert_exporter": "python",
   "pygments_lexer": "ipython3",
   "version": "3.11.7"
  }
 },
 "nbformat": 4,
 "nbformat_minor": 5
}
