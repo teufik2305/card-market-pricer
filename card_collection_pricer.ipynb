{
 "cells": [
  {
   "cell_type": "code",
   "execution_count": null,
   "id": "0",
   "metadata": {},
   "outputs": [],
   "source": [
    "import time\n",
    "import random\n",
    "import json\n",
    "import pandas as pd\n",
    "import os\n",
    "from selenium import webdriver\n",
    "from selenium.webdriver.common.by import By\n",
    "from selenium.webdriver.common.action_chains import ActionChains\n",
    "from selenium.webdriver.chrome.service import Service as ChromeService\n",
    "from selenium.webdriver.chrome.options import Options\n",
    "from webdriver_manager.chrome import ChromeDriverManager"
   ]
  },
  {
   "cell_type": "code",
   "execution_count": null,
   "id": "1",
   "metadata": {},
   "outputs": [],
   "source": [
    "expansions = [  'Duelist-Saga', 'Starter-Deck-Link-Strike', 'Code-of-the-Duelist', 'Legendary-Dragon-Decks', \n",
    "                'Circuit-Break', 'Structure-Deck-Cyberse-Link', 'Lost-Art-Promos', 'Legendary-Duelists-Ancient-Millennium',\n",
    "                'Star-Pack-VRAINS', 'Flames-of-Destruction', 'Dark-Saviors', 'Battles-of-Legend-Relentless-Revenge', \n",
    "                'Structure-Deck-Powercode-Link', 'Soul-Fusion', 'Dark-Neostorm', 'Battles-of-Legend-Heros-Revenge', 'Premium-Gold',\n",
    "                'Eternity-Code', 'Legendary-Duelists-Season-1', 'Battles-of-Legend-Armageddon', 'Legendary-Hero-Decks', 'Fusion-Enforcers'\n",
    "                '2020-Tin-of-Lost-Memories-Mega-Pack', 'Legendary-Duelists-Rage-of-Ra', 'OTS-Tournament-Pack-14', 'Premium-Gold-Infinite-Gold',\n",
    "                'Phantom-Rage', 'Maximum-Gold', 'Genesis-Impact', 'Legendary-Duelists-Season-2', 'Blazing-Vortex', 'Savage-Strike',\n",
    "                'Ancient-Guardians', 'Lightning-Overdrive', 'Demo-Pack', 'Structure-Deck-Shaddoll-Showdown', 'Secret-Slayers',\n",
    "                'Kings-Court', 'Egyptian-God-Deck-Slifer-the-Sky-Dragon', 'Egyptian-God-Deck-Obelisk-the-Tormentor', \n",
    "                'Burst-of-Destiny', 'Dawn-of-Majesty', 'Structure-Deck-Cyber-Strike', 'Battle-of-Chaos', 'The-Grand-Creators', 'Structure-Deck-Synchron-Extreme',\n",
    "                'Maximum-Gold-El-Dorado', 'Brothers-of-Legend', 'Hidden-Arsenal-Chapter-1', 'Speed-Duel-GX-Duel-Academy-Box', \n",
    "                'Structure-Deck-Albaz-Strike', '2022-Ghosts-From-the-Past', 'Dimension-Force', 'Structure-Deck-Legend-of-the-Crystal-Beasts',\n",
    "                'Legendary-Duelists-Season-3', 'Power-of-the-Elements', 'Tactical-Masters', 'Darkwing-Blast', 'Magnificent-Mavens',\n",
    "                'Battles-of-Legend-Crystal-Revenge', 'Amazing-Defenders', 'Photon-Hypernova', 'Structure-Deck-Beware-of-Traptrix', \n",
    "                'Maze-of-Memories', 'Cyberstorm-Access', 'Wild-Survivors', 'Battles-of-Legend-Monstrous-Revenge', 'Duelist-Nexus', \n",
    "                'Legendary-Duelists-Soulburning-Volcano', '25th-Anniversary-Tin-Dueling-Heroes-Mega-Pack', 'Age-of-Overlord', \n",
    "                '25th-Anniversary-Rarity-Collection', 'Phantom-Nightmare', 'Legacy-of-Destruction', 'Duel-Devastator', 'Duel-Overload', \n",
    "                'Rise-of-the-Duelist', 'Legendary-Duelists-Synchro-Storm', 'Maximum-Crisis', 'Legendary-Collection-4-Mega-Pack', \n",
    "                'Starter-Deck-Codebreaker', 'Starter-Deck-Kaiba-Reloaded', 'Extreme-Force', 'Cybernetic-Horizon', 'Legendary-Duelists-White-Dragon-Abyss',\n",
    "                'Legendary-Duelists-Sisters-of-the-Rose', 'Legendary-Duelists-Immortal-Destiny', 'Legendary-Duelists-Magical-Hero', \n",
    "                'Legendary-Duelists-9', 'OTS-Tournament-Pack-14', 'OTS-Tournament-Pack-18', 'OTS-Tournament-Pack-19', 'OTS-Tournament-Pack-20', \n",
    "                'Mystic-Fighters', '25th-Anniversary-Tin-Dueling-Heroes', '2020-Tin-of-Lost-Memories', '2022-Tin-of-the-Pharaohs-Gods', \n",
    "                '2021-Tin-of-Ancient-Battles', '2019-Gold-Sarcophagus-Tin', '2019-Gold-Sarcophagus-Tin-Mega-Pack', \n",
    "                'Legendary-Collection-25th-Anniversary-Edition', 'Breakers-of-Shadow', 'Hidden-Summoners', 'Structure-Deck-Zombie-Horde', \n",
    "                'Legendary-Collection-Kaiba-Mega-Pack', 'Legendary-Decks-II', 'Legendary-Collection-2-The-Duel-Academy-Years', 'OTS-Tournament-Pack-19', \n",
    "                'Return-of-the-Duelist', 'Rising-Rampage', 'Fists-of-the-Gadgets', 'Structure-Deck-Emperor-of-Darkness', \n",
    "                'Battle-Pack-2-War-of-the-Giants-Round-2', 'Ignition-Assault', 'Wing-Raiders', 'Structure-Deck-Spirit-Charmers',\n",
    "                'OTS-Tournament-Pack-16', '2018-MegaTin-Mega-Pack', 'Maze-of-Millennia', 'Star-Pack-2013', 'Magicians-Force', '']\n",
    "expansions = []\n",
    "cards = []\n",
    "category = \"Singles\"\n",
    "tcg = 'Digimon'\n",
    "refresh_price = True"
   ]
  },
  {
   "cell_type": "code",
   "execution_count": null,
   "id": "2",
   "metadata": {},
   "outputs": [],
   "source": [
    "counter_threshold = 20"
   ]
  },
  {
   "cell_type": "code",
   "execution_count": null,
   "id": "3",
   "metadata": {},
   "outputs": [],
   "source": [
    "cardlist_file_path = f\"{os.getcwd()}/data/{tcg}/cardlist.json\"\n",
    "updated_cards_prices_file_path = f\"{os.getcwd()}/data/{tcg}/updated-cards-prices.json\""
   ]
  },
  {
   "cell_type": "code",
   "execution_count": null,
   "id": "4",
   "metadata": {},
   "outputs": [],
   "source": [
    "URL = f\"https://www.cardmarket.com/en/{tcg}/Products\"\n",
    "headers = {\n",
    "    'User-Agent': 'Mozilla/5.0 (X11; Linux x86_64) AppleWebKit/537.36 (KHTML, like Gecko) Chrome/127.0.0.0 Safari/537.36'\n",
    "}"
   ]
  },
  {
   "cell_type": "code",
   "execution_count": null,
   "id": "5",
   "metadata": {},
   "outputs": [],
   "source": [
    "try:\n",
    "    with open(cardlist_file_path, \"r\") as file:\n",
    "        data = json.load(file)\n",
    "except Exception as e:\n",
    "    data = {}"
   ]
  },
  {
   "cell_type": "code",
   "execution_count": null,
   "id": "6",
   "metadata": {},
   "outputs": [],
   "source": [
    "data"
   ]
  },
  {
   "cell_type": "code",
   "execution_count": null,
   "id": "7",
   "metadata": {},
   "outputs": [],
   "source": [
    "def setup_driver():\n",
    "    options = Options()\n",
    "    # options.add_argument('--headless')\n",
    "    options.add_argument('--disable-gpu')\n",
    "    options.add_argument('--no-sandbox')\n",
    "    options.add_argument('--disable-blink-features=AutomationControlled')\n",
    "    driver = webdriver.Chrome(service=ChromeService(ChromeDriverManager().install()), options=options)\n",
    "    driver.set_window_size(random.randint(800, 1200), random.randint(600, 800))\n",
    "    actions = ActionChains(driver)\n",
    "    print(\"Driver set\")\n",
    "    \n",
    "    # Accepting Cookies\n",
    "    driver.get(URL)\n",
    "    cookie_button = \"\"\"//*[@id=\"CookiesConsent\"]/div/div/form/div/button\"\"\"\n",
    "    cookie_btn = driver.find_element(By.XPATH, cookie_button)\n",
    "    random_delay(4, 6)\n",
    "    try:\n",
    "        cookie_btn.click()\n",
    "        print(\"Cookie Accepted\")\n",
    "        random_delay(2, 3)\n",
    "    except Exception as e:\n",
    "        print(f'Could not click on cookie button {url}: {e}')\n",
    "    return driver, actions"
   ]
  },
  {
   "cell_type": "code",
   "execution_count": null,
   "id": "8",
   "metadata": {},
   "outputs": [],
   "source": [
    "def random_delay(min_delay=3, max_delay=10):\n",
    "    time.sleep(random.uniform(min_delay, max_delay))"
   ]
  },
  {
   "cell_type": "code",
   "execution_count": null,
   "id": "9",
   "metadata": {},
   "outputs": [],
   "source": [
    "driver, actions = setup_driver()"
   ]
  },
  {
   "cell_type": "code",
   "execution_count": null,
   "id": "10",
   "metadata": {},
   "outputs": [],
   "source": [
    "def save_data(data):\n",
    "    sorted_data = {\n",
    "        category: {\n",
    "            exp_name: {\n",
    "                card_name: card_data\n",
    "                for card_name, card_data in sorted(exp_data.items())\n",
    "            }\n",
    "            for exp_name, exp_data in sorted(category_data.items())\n",
    "        }\n",
    "        for category, category_data in sorted(data.items())\n",
    "    }\n",
    "    with open(cardlist_file_path, \"w\") as file:\n",
    "        json.dump(sorted_data, file, indent=4)"
   ]
  },
  {
   "cell_type": "code",
   "execution_count": null,
   "id": "11",
   "metadata": {},
   "outputs": [],
   "source": [
    "try:\n",
    "    with open(updated_cards_prices_file_path, \"r\") as file:\n",
    "        updated_cards_prices = json.load(file)\n",
    "except Exception as e:\n",
    "    updated_cards_prices = {}"
   ]
  },
  {
   "cell_type": "code",
   "execution_count": null,
   "id": "12",
   "metadata": {},
   "outputs": [],
   "source": [
    "def save_updated_cards_prices(updated_cards_prices):\n",
    "    os.makedirs(os.path.dirname(updated_cards_prices_file_path), exist_ok=True)\n",
    "    with open(updated_cards_prices_file_path, \"w\") as file:\n",
    "        json.dump(updated_cards_prices, file, indent=4)"
   ]
  },
  {
   "cell_type": "code",
   "execution_count": null,
   "id": "13",
   "metadata": {},
   "outputs": [],
   "source": [
    "price_from = \"\"\"//*[@id=\"tabContent-info\"]/div/div[1]/div/div[2]/dl/dd[6]\"\"\"\n",
    "price_trend = \"\"\"//*[@id=\"tabContent-info\"]/div/div[1]/div/div[2]/dl/dd[7]/span\"\"\"\n",
    "price_30_day_avg = \"\"\"//*[@id=\"tabContent-info\"]/div/div[1]/div/div[2]/dl/dd[8]/span\"\"\"\n",
    "pricing_basis = \"price_trend\""
   ]
  },
  {
   "cell_type": "code",
   "execution_count": null,
   "id": "14",
   "metadata": {},
   "outputs": [],
   "source": [
    "def convert_currency_string(currency_str):\n",
    "    if '£' in currency_str and '.' in currency_str and ',' in currency_str:\n",
    "        currency_str = str(float(currency_str.strip('£').replace('.', '').replace(',', '.'))*1.16).replace('.', ',')\n",
    "    elif '£' in currency_str:\n",
    "        currency_str = str(float(currency_str.strip('£').replace(',', '.'))*1).replace('.', ',')\n",
    "    cleaned_str = currency_str.strip('€ £')\n",
    "    \n",
    "    # If there's a comma and no period, it's likely a decimal comma\n",
    "    if ',' in cleaned_str and '.' not in cleaned_str:\n",
    "        cleaned_str = cleaned_str.replace(',', '.')\n",
    "    else:\n",
    "        # Remove periods used as thousand separators\n",
    "        cleaned_str = cleaned_str.replace('.', '').replace(',', '.')\n",
    "\n",
    "    return float(cleaned_str)"
   ]
  },
  {
   "cell_type": "code",
   "execution_count": null,
   "id": "15",
   "metadata": {},
   "outputs": [],
   "source": [
    "def get_price(data, category, selected_expansions = [], selected_cards = []):\n",
    "    global driver, actions\n",
    "    cards = []\n",
    "    for expansion, card_list in data[category].items():\n",
    "        for card_name, card_info in card_list.items():\n",
    "            card_info_copy = card_info.copy()  # Avoid modifying the original data\n",
    "            card_info_copy.update({'expansion': expansion, 'card_name': card_name})\n",
    "            cards.append(card_info_copy)\n",
    "    # Setting 'expansion' and 'card_name' as the index to make it easier to filter\n",
    "    df = pd.DataFrame(cards).set_index(['expansion', 'card_name'])\n",
    "\n",
    "    if selected_expansions or selected_cards:\n",
    "        df = df.loc[df.index.get_level_values('expansion').isin(selected_expansions) | \n",
    "                    df.index.get_level_values('card_name').isin(selected_cards)].copy()\n",
    "    # df = df[df['quantity'] > 0]\n",
    "\n",
    "    counter = 0\n",
    "    for index, row in df.iterrows():\n",
    "        if counter == counter_threshold:\n",
    "            save_data(data)\n",
    "            save_updated_cards_prices(updated_cards_prices)\n",
    "            driver.quit()\n",
    "            driver, actions = setup_driver()\n",
    "            counter = 0\n",
    "        expansion, card_name = index\n",
    "        if expansion in updated_cards_prices and card_name in updated_cards_prices[expansion]:\n",
    "            continue\n",
    "        print(f\"Getting price for: {card_name}\")\n",
    "        url = f\"{URL}/{category}/{expansion}/{card_name}\"\n",
    "        driver.get(url)\n",
    "        random_delay(1, 3)\n",
    "        # actions.move_by_offset(random.randint(0, 100), random.randint(0, 100)).perform()\n",
    "        driver.execute_script(\"window.scrollTo(0, document.body.scrollHeight);\")\n",
    "        random_delay(3, 4)\n",
    "        \n",
    "        try:\n",
    "            p_from = convert_currency_string(driver.find_element(By.XPATH, price_from).text)\n",
    "            df.at[index, 'price_from'] = p_from\n",
    "            data[category][expansion][card_name]['price_from'] = p_from\n",
    "        except Exception as e:\n",
    "            print(f'Could not retrieve price_from for {url}: {e}')\n",
    "        try:\n",
    "            p_trend = convert_currency_string(driver.find_element(By.XPATH, price_trend).text)\n",
    "            data[category][expansion][card_name]['price_trend'] = p_trend\n",
    "        except Exception as e:\n",
    "            print(f'Could not retrieve price_trend for {url}: {e}')\n",
    "        try:\n",
    "            p_30_day = convert_currency_string(driver.find_element(By.XPATH, price_30_day_avg).text)\n",
    "            df.at[index, 'price_30_day_avg'] = p_30_day\n",
    "            data[category][expansion][card_name]['price_30_day_avg'] = p_30_day\n",
    "        except Exception as e:\n",
    "            print(f'Could not retrieve price_30_day_avg for {url}: {e}')\n",
    "\n",
    "        if expansion in updated_cards_prices:\n",
    "            updated_cards_prices[expansion].append(card_name)\n",
    "        else:\n",
    "            updated_cards_prices[expansion] = [card_name]\n",
    "        counter += 1\n",
    "    save_data(data)\n",
    "    save_updated_cards_prices(updated_cards_prices)"
   ]
  },
  {
   "cell_type": "code",
   "execution_count": null,
   "id": "16",
   "metadata": {},
   "outputs": [],
   "source": [
    "# print(convert_currency_string('£1.999,99'))\n",
    "# print(convert_currency_string('£0,17'))\n",
    "# print(convert_currency_string('£0.02'))\n",
    "# print(convert_currency_string('0,317 €'))\n",
    "# print(convert_currency_string('1.999,99  €'))"
   ]
  },
  {
   "cell_type": "code",
   "execution_count": null,
   "id": "17",
   "metadata": {},
   "outputs": [],
   "source": [
    "if refresh_price:\n",
    "    get_price(data, category, expansions, cards)"
   ]
  },
  {
   "cell_type": "code",
   "execution_count": null,
   "id": "18",
   "metadata": {},
   "outputs": [],
   "source": [
    "def get_df(data, category, selected_expansions = [], selected_cards = []):\n",
    "    cards = []\n",
    "    for expansion, card_list in data[category].items():\n",
    "        for card_name, card_info in card_list.items():\n",
    "            card_info_copy = card_info.copy()  # Avoid modifying the original data\n",
    "            card_info_copy.update({'expansion': expansion, 'card_name': card_name})\n",
    "            cards.append(card_info_copy)\n",
    "\n",
    "    df = pd.DataFrame(cards).set_index(['expansion', 'card_name'])\n",
    "\n",
    "    if selected_expansions or selected_cards:\n",
    "        df = df.loc[df.index.get_level_values('expansion').isin(selected_expansions) | \n",
    "                    df.index.get_level_values('card_name').isin(selected_cards)].copy()\n",
    "    return df"
   ]
  },
  {
   "cell_type": "code",
   "execution_count": null,
   "id": "19",
   "metadata": {},
   "outputs": [],
   "source": [
    "df = get_df(data, category, expansions, cards)"
   ]
  },
  {
   "cell_type": "code",
   "execution_count": null,
   "id": "20",
   "metadata": {},
   "outputs": [],
   "source": []
  },
  {
   "cell_type": "code",
   "execution_count": null,
   "id": "21",
   "metadata": {},
   "outputs": [],
   "source": [
    "df[(df['price_from'] > df['price_trend']*1.2) & (df['quantity'] > 0)]"
   ]
  },
  {
   "cell_type": "code",
   "execution_count": null,
   "id": "22",
   "metadata": {},
   "outputs": [],
   "source": [
    "def get_worth(data, category, selected_expansions = [], selected_cards = []):\n",
    "    cards = []\n",
    "    for expansion, card_list in data[category].items():\n",
    "        for card_name, card_info in card_list.items():\n",
    "            card_info_copy = card_info.copy()  # Avoid modifying the original data\n",
    "            card_info_copy.update({'expansion': expansion, 'card_name': card_name})\n",
    "            cards.append(card_info_copy)\n",
    "\n",
    "    df = pd.DataFrame(cards).set_index(['expansion', 'card_name'])\n",
    "\n",
    "    if selected_expansions or selected_cards:\n",
    "        df = df.loc[df.index.get_level_values('expansion').isin(selected_expansions) | \n",
    "                    df.index.get_level_values('card_name').isin(selected_cards)].copy()\n",
    "    df = df[df['quantity'] > 0]\n",
    "    \n",
    "    df['total_price'] = df['quantity'] * df[pricing_basis]\n",
    "    print(df.reset_index()[['card_name', 'quantity', pricing_basis, 'total_price']])\n",
    "    sum = df['total_price'].sum()\n",
    "    print(f\"{sum:.2f}\")"
   ]
  },
  {
   "cell_type": "code",
   "execution_count": null,
   "id": "23",
   "metadata": {},
   "outputs": [],
   "source": [
    "get_worth(data, category, expansions, cards)"
   ]
  },
  {
   "cell_type": "code",
   "execution_count": null,
   "id": "24",
   "metadata": {},
   "outputs": [],
   "source": [
    "driver.quit()"
   ]
  },
  {
   "cell_type": "code",
   "execution_count": null,
   "id": "25",
   "metadata": {},
   "outputs": [],
   "source": []
  }
 ],
 "metadata": {
  "kernelspec": {
   "display_name": "Python 3 (ipykernel)",
   "language": "python",
   "name": "python3"
  },
  "language_info": {
   "codemirror_mode": {
    "name": "ipython",
    "version": 3
   },
   "file_extension": ".py",
   "mimetype": "text/x-python",
   "name": "python",
   "nbconvert_exporter": "python",
   "pygments_lexer": "ipython3",
   "version": "3.11.7"
  }
 },
 "nbformat": 4,
 "nbformat_minor": 5
}
