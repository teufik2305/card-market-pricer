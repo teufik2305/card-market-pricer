{
 "cells": [
  {
   "cell_type": "code",
   "execution_count": 1,
   "id": "e48d989d-6b49-4465-8c0d-952da758ee5b",
   "metadata": {},
   "outputs": [],
   "source": [
    "import time\n",
    "import random\n",
    "import json\n",
    "import pandas as pd\n",
    "import os\n",
    "from selenium import webdriver\n",
    "from selenium.webdriver.common.by import By\n",
    "from selenium.webdriver.common.action_chains import ActionChains\n",
    "from selenium.webdriver.chrome.service import Service as ChromeService\n",
    "from selenium.webdriver.chrome.options import Options\n",
    "from webdriver_manager.chrome import ChromeDriverManager"
   ]
  },
  {
   "cell_type": "code",
   "execution_count": 3,
   "id": "da266dc8-19c0-44f3-b5e3-c8d615c15683",
   "metadata": {},
   "outputs": [],
   "source": [
    "expansions = [  'Duelist-Saga', 'Starter-Deck-Link-Strike', 'Code-of-the-Duelist', 'Legendary-Dragon-Decks', \n",
    "                'Circuit-Break', 'Structure-Deck-Cyberse-Link', 'Lost-Art-Promos', 'Legendary-Duelists-Ancient-Millennium',\n",
    "                'Star-Pack-VRAINS', 'Flames-of-Destruction', 'Dark-Saviors', 'Battles-of-Legend-Relentless-Revenge', \n",
    "                'Structure-Deck-Powercode-Link', 'Soul-Fusion', 'Dark-Neostorm', 'Battles-of-Legend-Heros-Revenge', 'Premium-Gold',\n",
    "                'Eternity-Code', 'Legendary-Duelists-Season-1', 'Battles-of-Legend-Armageddon', 'Legendary-Hero-Decks', 'Fusion-Enforcers'\n",
    "                '2020-Tin-of-Lost-Memories-Mega-Pack', 'Legendary-Duelists-Rage-of-Ra', 'OTS-Tournament-Pack-14', 'Premium-Gold-Infinite-Gold',\n",
    "                'Phantom-Rage', 'Maximum-Gold', 'Genesis-Impact', 'Legendary-Duelists-Season-2', 'Blazing-Vortex', 'Savage-Strike',\n",
    "                'Ancient-Guardians', 'Lightning-Overdrive', 'Demo-Pack', 'Structure-Deck-Shaddoll-Showdown', 'Secret-Slayers',\n",
    "                'Kings-Court', 'Egyptian-God-Deck-Slifer-the-Sky-Dragon', 'Egyptian-God-Deck-Obelisk-the-Tormentor', \n",
    "                'Burst-of-Destiny', 'Dawn-of-Majesty', 'Structure-Deck-Cyber-Strike', 'Battle-of-Chaos', 'The-Grand-Creators', 'Structure-Deck-Synchron-Extreme',\n",
    "                'Maximum-Gold-El-Dorado', 'Brothers-of-Legend', 'Hidden-Arsenal-Chapter-1', 'Speed-Duel-GX-Duel-Academy-Box', \n",
    "                'Structure-Deck-Albaz-Strike', '2022-Ghosts-From-the-Past', 'Dimension-Force', 'Structure-Deck-Legend-of-the-Crystal-Beasts',\n",
    "                'Legendary-Duelists-Season-3', 'Power-of-the-Elements', 'Tactical-Masters', 'Darkwing-Blast', 'Magnificent-Mavens',\n",
    "                'Battles-of-Legend-Crystal-Revenge', 'Amazing-Defenders', 'Photon-Hypernova', 'Structure-Deck-Beware-of-Traptrix', \n",
    "                'Maze-of-Memories', 'Cyberstorm-Access', 'Wild-Survivors', 'Battles-of-Legend-Monstrous-Revenge', 'Duelist-Nexus', \n",
    "                'Legendary-Duelists-Soulburning-Volcano', '25th-Anniversary-Tin-Dueling-Heroes-Mega-Pack', 'Age-of-Overlord', \n",
    "                '25th-Anniversary-Rarity-Collection', 'Phantom-Nightmare', 'Legacy-of-Destruction', 'Duel-Devastator', 'Duel-Overload', \n",
    "                'Rise-of-the-Duelist', 'Legendary-Duelists-Synchro-Storm', 'Maximum-Crisis', 'Legendary-Collection-4-Mega-Pack', \n",
    "                'Starter-Deck-Codebreaker', 'Starter-Deck-Kaiba-Reloaded', 'Extreme-Force', 'Cybernetic-Horizon', 'Legendary-Duelists-White-Dragon-Abyss',\n",
    "                'Legendary-Duelists-Sisters-of-the-Rose', 'Legendary-Duelists-Immortal-Destiny', 'Legendary-Duelists-Magical-Hero', \n",
    "                'Legendary-Duelists-9', 'OTS-Tournament-Pack-14', 'OTS-Tournament-Pack-18', 'OTS-Tournament-Pack-19', 'OTS-Tournament-Pack-20', \n",
    "                'Mystic-Fighters', '25th-Anniversary-Tin-Dueling-Heroes', '2020-Tin-of-Lost-Memories', '2022-Tin-of-the-Pharaohs-Gods', \n",
    "                '2021-Tin-of-Ancient-Battles', '2019-Gold-Sarcophagus-Tin', '2019-Gold-Sarcophagus-Tin-Mega-Pack', \n",
    "                'Legendary-Collection-25th-Anniversary-Edition', 'Breakers-of-Shadow', 'Hidden-Summoners', 'Structure-Deck-Zombie-Horde', \n",
    "                'Legendary-Collection-Kaiba-Mega-Pack', 'Legendary-Decks-II', 'Legendary-Collection-2-The-Duel-Academy-Years', 'OTS-Tournament-Pack-19', \n",
    "                'Return-of-the-Duelist', 'Rising-Rampage', 'Fists-of-the-Gadgets', 'Structure-Deck-Emperor-of-Darkness', \n",
    "                'Battle-Pack-2-War-of-the-Giants-Round-2', 'Ignition-Assault', 'Wing-Raiders', 'Structure-Deck-Spirit-Charmers',\n",
    "                'OTS-Tournament-Pack-16', '2018-MegaTin-Mega-Pack', 'Maze-of-Millennia', 'Star-Pack-2013', 'Magicians-Force', '']\n",
    "# expansions = []\n",
    "cards = []\n",
    "category = \"Singles\"\n",
    "tcg = 'YuGiOh'\n",
    "refresh_price = True"
   ]
  },
  {
   "cell_type": "code",
   "execution_count": 5,
   "id": "49b75e18-db2b-4661-8edd-ef0b96ca2870",
   "metadata": {},
   "outputs": [],
   "source": [
    "counter_threshold = 20"
   ]
  },
  {
   "cell_type": "code",
   "execution_count": 9,
   "id": "b2c21b31-6198-480e-a2bf-2b5abf21c49b",
   "metadata": {},
   "outputs": [],
   "source": [
    "cardlist_file_path = f\"{os.getcwd()}/data/{tcg}/cardlist.json\"\n",
    "updated_cards_prices_file_path = f\"{os.getcwd()}/data/{tcg}/updated-cards-prices.json\""
   ]
  },
  {
   "cell_type": "code",
   "execution_count": 15,
   "id": "7edc9f7e-9600-429a-b318-b0ea9ee49699",
   "metadata": {},
   "outputs": [],
   "source": [
    "URL = f\"https://www.cardmarket.com/en/{tcg}/Products\"\n",
    "headers = {\n",
    "    'User-Agent': 'Mozilla/5.0 (X11; Linux x86_64) AppleWebKit/537.36 (KHTML, like Gecko) Chrome/127.0.0.0 Safari/537.36'\n",
    "}"
   ]
  },
  {
   "cell_type": "code",
   "execution_count": 17,
   "id": "40b2ca2e-95d6-4050-a138-1719f2538dd6",
   "metadata": {},
   "outputs": [],
   "source": [
    "try:\n",
    "    with open(cardlist_file_path, \"r\") as file:\n",
    "        data = json.load(file)\n",
    "except Exception as e:\n",
    "    data = {}"
   ]
  },
  {
   "cell_type": "code",
   "execution_count": 21,
   "id": "20dc995d-1c10-4f93-9194-5221c34c6fb8",
   "metadata": {},
   "outputs": [],
   "source": [
    "def setup_driver():\n",
    "    options = Options()\n",
    "    # options.add_argument('--headless')\n",
    "    options.add_argument('--disable-gpu')\n",
    "    options.add_argument('--no-sandbox')\n",
    "    options.add_argument('--disable-blink-features=AutomationControlled')\n",
    "    driver = webdriver.Chrome(service=ChromeService(ChromeDriverManager().install()), options=options)\n",
    "    driver.set_window_size(random.randint(800, 1200), random.randint(600, 800))\n",
    "    actions = ActionChains(driver)\n",
    "    print(\"Driver set\")\n",
    "    \n",
    "    # Accepting Cookies\n",
    "    driver.get(URL)\n",
    "    cookie_button = \"\"\"//*[@id=\"CookiesConsent\"]/div/div/form/div/button\"\"\"\n",
    "    cookie_btn = driver.find_element(By.XPATH, cookie_button)\n",
    "    random_delay(4, 6)\n",
    "    try:\n",
    "        cookie_btn.click()\n",
    "        print(\"Cookie Accepted\")\n",
    "        random_delay(2, 3)\n",
    "    except Exception as e:\n",
    "        print(f'Could not click on cookie button {url}: {e}')\n",
    "    return driver, actions"
   ]
  },
  {
   "cell_type": "code",
   "execution_count": 23,
   "id": "096e5d06-3536-489f-8092-47c8d86e5821",
   "metadata": {},
   "outputs": [],
   "source": [
    "def random_delay(min_delay=3, max_delay=10):\n",
    "    time.sleep(random.uniform(min_delay, max_delay))"
   ]
  },
  {
   "cell_type": "code",
   "execution_count": 25,
   "id": "5e9aa816-d27e-4536-9ef5-af5e3adece80",
   "metadata": {},
   "outputs": [
    {
     "name": "stdout",
     "output_type": "stream",
     "text": [
      "Driver set\n",
      "Cookie Accepted\n"
     ]
    }
   ],
   "source": [
    "driver, actions = setup_driver()"
   ]
  },
  {
   "cell_type": "code",
   "execution_count": 27,
   "id": "1c7f9a48-87dd-4698-9851-0f65cadb1c06",
   "metadata": {},
   "outputs": [],
   "source": [
    "def save_data(data):\n",
    "    sorted_data = {\n",
    "        category: {\n",
    "            exp_name: {\n",
    "                card_name: card_data\n",
    "                for card_name, card_data in sorted(exp_data.items())\n",
    "            }\n",
    "            for exp_name, exp_data in sorted(category_data.items())\n",
    "        }\n",
    "        for category, category_data in sorted(data.items())\n",
    "    }\n",
    "    with open(cardlist_file_path, \"w\") as file:\n",
    "        json.dump(sorted_data, file, indent=4)"
   ]
  },
  {
   "cell_type": "code",
   "execution_count": 29,
   "id": "a3ea731b-00be-4d04-af10-041113377bae",
   "metadata": {},
   "outputs": [],
   "source": [
    "try:\n",
    "    with open(updated_cards_prices_file_path, \"r\") as file:\n",
    "        updated_cards_prices = json.load(file)\n",
    "except Exception as e:\n",
    "    updated_cards_prices = {}"
   ]
  },
  {
   "cell_type": "code",
   "execution_count": 33,
   "id": "b05420ab-2aa0-4176-810e-9462a10f376d",
   "metadata": {},
   "outputs": [],
   "source": [
    "def save_updated_cards_prices(updated_cards_prices):\n",
    "    with open(updated_cards_prices_file_path, \"w\") as file:\n",
    "        json.dump(updated_cards_prices, file, indent=4)"
   ]
  },
  {
   "cell_type": "code",
   "execution_count": 73,
   "id": "489607e8-d39e-4500-bf89-1b26f53522f9",
   "metadata": {},
   "outputs": [],
   "source": [
    "price_from = \"\"\"//*[@id=\"tabContent-info\"]/div/div[1]/div/div[2]/dl/dd[6]\"\"\"\n",
    "price_trend = \"\"\"//*[@id=\"tabContent-info\"]/div/div[1]/div/div[2]/dl/dd[7]/span\"\"\"\n",
    "price_30_day_avg = \"\"\"//*[@id=\"tabContent-info\"]/div/div[1]/div/div[2]/dl/dd[8]/span\"\"\"\n",
    "pricing_basis = \"price_trend\""
   ]
  },
  {
   "cell_type": "code",
   "execution_count": 37,
   "id": "3cab2c5e-138e-42a3-b247-9886f83bf1bc",
   "metadata": {},
   "outputs": [],
   "source": [
    "def convert_currency_string(currency_str):\n",
    "    if '£' in currency_str and '.' in currency_str and ',' in currency_str:\n",
    "        currency_str = str(float(currency_str.strip('£').replace('.', '').replace(',', '.'))*1.16).replace('.', ',')\n",
    "    elif '£' in currency_str:\n",
    "        currency_str = str(float(currency_str.strip('£').replace(',', '.'))*1).replace('.', ',')\n",
    "    cleaned_str = currency_str.strip('€ £')\n",
    "    \n",
    "    # If there's a comma and no period, it's likely a decimal comma\n",
    "    if ',' in cleaned_str and '.' not in cleaned_str:\n",
    "        cleaned_str = cleaned_str.replace(',', '.')\n",
    "    else:\n",
    "        # Remove periods used as thousand separators\n",
    "        cleaned_str = cleaned_str.replace('.', '').replace(',', '.')\n",
    "\n",
    "    return float(cleaned_str)"
   ]
  },
  {
   "cell_type": "code",
   "execution_count": 39,
   "id": "d75af55c-06ea-46a7-a2b6-2118cec4c5bb",
   "metadata": {},
   "outputs": [],
   "source": [
    "def get_price(data, category, selected_expansions = [], selected_cards = []):\n",
    "    global driver, actions\n",
    "    cards = []\n",
    "    for expansion, card_list in data[category].items():\n",
    "        for card_name, card_info in card_list.items():\n",
    "            card_info_copy = card_info.copy()  # Avoid modifying the original data\n",
    "            card_info_copy.update({'expansion': expansion, 'card_name': card_name})\n",
    "            cards.append(card_info_copy)\n",
    "    # Setting 'expansion' and 'card_name' as the index to make it easier to filter\n",
    "    df = pd.DataFrame(cards).set_index(['expansion', 'card_name'])\n",
    "\n",
    "    if selected_expansions or selected_cards:\n",
    "        df = df.loc[df.index.get_level_values('expansion').isin(selected_expansions) | \n",
    "                    df.index.get_level_values('card_name').isin(selected_cards)].copy()\n",
    "    # df = df[df['quantity'] > 0]\n",
    "\n",
    "    counter = 0\n",
    "    for index, row in df.iterrows():\n",
    "        if counter == counter_threshold:\n",
    "            save_data(data)\n",
    "            save_updated_cards_prices(updated_cards_prices)\n",
    "            driver.quit()\n",
    "            driver, actions = setup_driver()\n",
    "            counter = 0\n",
    "        expansion, card_name = index\n",
    "        if expansion in updated_cards_prices and card_name in updated_cards_prices[expansion]:\n",
    "            continue\n",
    "        print(f\"Getting price for: {card_name}\")\n",
    "        url = f\"{URL}/{category}/{expansion}/{card_name}\"\n",
    "        driver.get(url)\n",
    "        random_delay(1, 3)\n",
    "        # actions.move_by_offset(random.randint(0, 100), random.randint(0, 100)).perform()\n",
    "        driver.execute_script(\"window.scrollTo(0, document.body.scrollHeight);\")\n",
    "        random_delay(3, 4)\n",
    "        \n",
    "        try:\n",
    "            p_from = convert_currency_string(driver.find_element(By.XPATH, price_from).text)\n",
    "            df.at[index, 'price_from'] = p_from\n",
    "            data[category][expansion][card_name]['price_from'] = p_from\n",
    "        except Exception as e:\n",
    "            print(f'Could not retrieve price_from for {url}: {e}')\n",
    "        try:\n",
    "            p_trend = convert_currency_string(driver.find_element(By.XPATH, price_trend).text)\n",
    "            data[category][expansion][card_name]['price_trend'] = p_trend\n",
    "        except Exception as e:\n",
    "            print(f'Could not retrieve price_trend for {url}: {e}')\n",
    "        try:\n",
    "            p_30_day = convert_currency_string(driver.find_element(By.XPATH, price_30_day_avg).text)\n",
    "            df.at[index, 'price_30_day_avg'] = p_30_day\n",
    "            data[category][expansion][card_name]['price_30_day_avg'] = p_30_day\n",
    "        except Exception as e:\n",
    "            print(f'Could not retrieve price_30_day_avg for {url}: {e}')\n",
    "\n",
    "        if expansion in updated_cards_prices:\n",
    "            updated_cards_prices[expansion].append(card_name)\n",
    "        else:\n",
    "            updated_cards_prices[expansion] = [card_name]\n",
    "        counter += 1\n",
    "    save_data(data)\n",
    "    save_updated_cards_prices(updated_cards_prices)"
   ]
  },
  {
   "cell_type": "code",
   "execution_count": 41,
   "id": "6cf15c9c-f522-42c5-bb1f-6aa883387ca2",
   "metadata": {},
   "outputs": [],
   "source": [
    "# print(convert_currency_string('£1.999,99'))\n",
    "# print(convert_currency_string('£0,17'))\n",
    "# print(convert_currency_string('£0.02'))\n",
    "# print(convert_currency_string('0,317 €'))\n",
    "# print(convert_currency_string('1.999,99  €'))"
   ]
  },
  {
   "cell_type": "code",
   "execution_count": 43,
   "id": "fbae2ed8-cb6e-4700-8394-3bd0c95ccc47",
   "metadata": {
    "scrolled": true
   },
   "outputs": [
    {
     "name": "stdout",
     "output_type": "stream",
     "text": [
      "Getting price for: Steel-Star-Regulator\n",
      "Getting price for: Stellar-Wind-Wolfrayet\n",
      "Getting price for: Sunavalon-Daphne\n",
      "Getting price for: Sunavalon-Melias\n",
      "Getting price for: Sunvine-Cross-Breed\n",
      "Getting price for: Sunvine-Sowing\n",
      "Getting price for: Supernatural-Danger-Zone\n",
      "Getting price for: Synchro-Overtake\n",
      "Getting price for: Synchro-Transmission\n",
      "Getting price for: Terrors-of-the-Underroot\n",
      "Getting price for: The-Breaking-Ruin-God\n",
      "Getting price for: The-Fabled-Abanc\n",
      "Getting price for: The-Revived-Sky-God\n",
      "Getting price for: The-True-Sun-God\n",
      "Getting price for: Threshold-Borg\n",
      "Getting price for: Thron-the-Disciplined-Angel\n",
      "Getting price for: Traptrix-Cularia\n",
      "Getting price for: Traptrix-Vesiculo\n",
      "Getting price for: Tri-Brigade-Bearbrumm-the-Rampant-Rampager\n",
      "Getting price for: Tri-Brigade-Kitt\n",
      "Driver set\n",
      "Cookie Accepted\n",
      "Getting price for: Tri-Brigade-Rendezvous\n",
      "Getting price for: Trickstar-Festival\n"
     ]
    },
    {
     "ename": "KeyboardInterrupt",
     "evalue": "",
     "output_type": "error",
     "traceback": [
      "\u001b[0;31m---------------------------------------------------------------------------\u001b[0m",
      "\u001b[0;31mKeyboardInterrupt\u001b[0m                         Traceback (most recent call last)",
      "Cell \u001b[0;32mIn[43], line 2\u001b[0m\n\u001b[1;32m      1\u001b[0m \u001b[38;5;28;01mif\u001b[39;00m refresh_price:\n\u001b[0;32m----> 2\u001b[0m     get_price(data, category, expansions, cards)\n",
      "Cell \u001b[0;32mIn[39], line 30\u001b[0m, in \u001b[0;36mget_price\u001b[0;34m(data, category, selected_expansions, selected_cards)\u001b[0m\n\u001b[1;32m     28\u001b[0m \u001b[38;5;28mprint\u001b[39m(\u001b[38;5;124mf\u001b[39m\u001b[38;5;124m\"\u001b[39m\u001b[38;5;124mGetting price for: \u001b[39m\u001b[38;5;132;01m{\u001b[39;00mcard_name\u001b[38;5;132;01m}\u001b[39;00m\u001b[38;5;124m\"\u001b[39m)\n\u001b[1;32m     29\u001b[0m url \u001b[38;5;241m=\u001b[39m \u001b[38;5;124mf\u001b[39m\u001b[38;5;124m\"\u001b[39m\u001b[38;5;132;01m{\u001b[39;00mURL\u001b[38;5;132;01m}\u001b[39;00m\u001b[38;5;124m/\u001b[39m\u001b[38;5;132;01m{\u001b[39;00mcategory\u001b[38;5;132;01m}\u001b[39;00m\u001b[38;5;124m/\u001b[39m\u001b[38;5;132;01m{\u001b[39;00mexpansion\u001b[38;5;132;01m}\u001b[39;00m\u001b[38;5;124m/\u001b[39m\u001b[38;5;132;01m{\u001b[39;00mcard_name\u001b[38;5;132;01m}\u001b[39;00m\u001b[38;5;124m\"\u001b[39m\n\u001b[0;32m---> 30\u001b[0m driver\u001b[38;5;241m.\u001b[39mget(url)\n\u001b[1;32m     31\u001b[0m random_delay(\u001b[38;5;241m1\u001b[39m, \u001b[38;5;241m3\u001b[39m)\n\u001b[1;32m     32\u001b[0m \u001b[38;5;66;03m# actions.move_by_offset(random.randint(0, 100), random.randint(0, 100)).perform()\u001b[39;00m\n",
      "File \u001b[0;32m~/anaconda3/lib/python3.11/site-packages/selenium/webdriver/remote/webdriver.py:363\u001b[0m, in \u001b[0;36mWebDriver.get\u001b[0;34m(self, url)\u001b[0m\n\u001b[1;32m    361\u001b[0m \u001b[38;5;28;01mdef\u001b[39;00m \u001b[38;5;21mget\u001b[39m(\u001b[38;5;28mself\u001b[39m, url: \u001b[38;5;28mstr\u001b[39m) \u001b[38;5;241m-\u001b[39m\u001b[38;5;241m>\u001b[39m \u001b[38;5;28;01mNone\u001b[39;00m:\n\u001b[1;32m    362\u001b[0m \u001b[38;5;250m    \u001b[39m\u001b[38;5;124;03m\"\"\"Loads a web page in the current browser session.\"\"\"\u001b[39;00m\n\u001b[0;32m--> 363\u001b[0m     \u001b[38;5;28mself\u001b[39m\u001b[38;5;241m.\u001b[39mexecute(Command\u001b[38;5;241m.\u001b[39mGET, {\u001b[38;5;124m\"\u001b[39m\u001b[38;5;124murl\u001b[39m\u001b[38;5;124m\"\u001b[39m: url})\n",
      "File \u001b[0;32m~/anaconda3/lib/python3.11/site-packages/selenium/webdriver/remote/webdriver.py:352\u001b[0m, in \u001b[0;36mWebDriver.execute\u001b[0;34m(self, driver_command, params)\u001b[0m\n\u001b[1;32m    349\u001b[0m     \u001b[38;5;28;01melif\u001b[39;00m \u001b[38;5;124m\"\u001b[39m\u001b[38;5;124msessionId\u001b[39m\u001b[38;5;124m\"\u001b[39m \u001b[38;5;129;01mnot\u001b[39;00m \u001b[38;5;129;01min\u001b[39;00m params:\n\u001b[1;32m    350\u001b[0m         params[\u001b[38;5;124m\"\u001b[39m\u001b[38;5;124msessionId\u001b[39m\u001b[38;5;124m\"\u001b[39m] \u001b[38;5;241m=\u001b[39m \u001b[38;5;28mself\u001b[39m\u001b[38;5;241m.\u001b[39msession_id\n\u001b[0;32m--> 352\u001b[0m response \u001b[38;5;241m=\u001b[39m \u001b[38;5;28mself\u001b[39m\u001b[38;5;241m.\u001b[39mcommand_executor\u001b[38;5;241m.\u001b[39mexecute(driver_command, params)\n\u001b[1;32m    353\u001b[0m \u001b[38;5;28;01mif\u001b[39;00m response:\n\u001b[1;32m    354\u001b[0m     \u001b[38;5;28mself\u001b[39m\u001b[38;5;241m.\u001b[39merror_handler\u001b[38;5;241m.\u001b[39mcheck_response(response)\n",
      "File \u001b[0;32m~/anaconda3/lib/python3.11/site-packages/selenium/webdriver/remote/remote_connection.py:302\u001b[0m, in \u001b[0;36mRemoteConnection.execute\u001b[0;34m(self, command, params)\u001b[0m\n\u001b[1;32m    300\u001b[0m trimmed \u001b[38;5;241m=\u001b[39m \u001b[38;5;28mself\u001b[39m\u001b[38;5;241m.\u001b[39m_trim_large_entries(params)\n\u001b[1;32m    301\u001b[0m LOGGER\u001b[38;5;241m.\u001b[39mdebug(\u001b[38;5;124m\"\u001b[39m\u001b[38;5;132;01m%s\u001b[39;00m\u001b[38;5;124m \u001b[39m\u001b[38;5;132;01m%s\u001b[39;00m\u001b[38;5;124m \u001b[39m\u001b[38;5;132;01m%s\u001b[39;00m\u001b[38;5;124m\"\u001b[39m, command_info[\u001b[38;5;241m0\u001b[39m], url, \u001b[38;5;28mstr\u001b[39m(trimmed))\n\u001b[0;32m--> 302\u001b[0m \u001b[38;5;28;01mreturn\u001b[39;00m \u001b[38;5;28mself\u001b[39m\u001b[38;5;241m.\u001b[39m_request(command_info[\u001b[38;5;241m0\u001b[39m], url, body\u001b[38;5;241m=\u001b[39mdata)\n",
      "File \u001b[0;32m~/anaconda3/lib/python3.11/site-packages/selenium/webdriver/remote/remote_connection.py:322\u001b[0m, in \u001b[0;36mRemoteConnection._request\u001b[0;34m(self, method, url, body)\u001b[0m\n\u001b[1;32m    319\u001b[0m     body \u001b[38;5;241m=\u001b[39m \u001b[38;5;28;01mNone\u001b[39;00m\n\u001b[1;32m    321\u001b[0m \u001b[38;5;28;01mif\u001b[39;00m \u001b[38;5;28mself\u001b[39m\u001b[38;5;241m.\u001b[39mkeep_alive:\n\u001b[0;32m--> 322\u001b[0m     response \u001b[38;5;241m=\u001b[39m \u001b[38;5;28mself\u001b[39m\u001b[38;5;241m.\u001b[39m_conn\u001b[38;5;241m.\u001b[39mrequest(method, url, body\u001b[38;5;241m=\u001b[39mbody, headers\u001b[38;5;241m=\u001b[39mheaders)\n\u001b[1;32m    323\u001b[0m     statuscode \u001b[38;5;241m=\u001b[39m response\u001b[38;5;241m.\u001b[39mstatus\n\u001b[1;32m    324\u001b[0m \u001b[38;5;28;01melse\u001b[39;00m:\n",
      "File \u001b[0;32m~/anaconda3/lib/python3.11/site-packages/urllib3/_request_methods.py:118\u001b[0m, in \u001b[0;36mRequestMethods.request\u001b[0;34m(self, method, url, body, fields, headers, json, **urlopen_kw)\u001b[0m\n\u001b[1;32m    110\u001b[0m     \u001b[38;5;28;01mreturn\u001b[39;00m \u001b[38;5;28mself\u001b[39m\u001b[38;5;241m.\u001b[39mrequest_encode_url(\n\u001b[1;32m    111\u001b[0m         method,\n\u001b[1;32m    112\u001b[0m         url,\n\u001b[0;32m   (...)\u001b[0m\n\u001b[1;32m    115\u001b[0m         \u001b[38;5;241m*\u001b[39m\u001b[38;5;241m*\u001b[39murlopen_kw,\n\u001b[1;32m    116\u001b[0m     )\n\u001b[1;32m    117\u001b[0m \u001b[38;5;28;01melse\u001b[39;00m:\n\u001b[0;32m--> 118\u001b[0m     \u001b[38;5;28;01mreturn\u001b[39;00m \u001b[38;5;28mself\u001b[39m\u001b[38;5;241m.\u001b[39mrequest_encode_body(\n\u001b[1;32m    119\u001b[0m         method, url, fields\u001b[38;5;241m=\u001b[39mfields, headers\u001b[38;5;241m=\u001b[39mheaders, \u001b[38;5;241m*\u001b[39m\u001b[38;5;241m*\u001b[39murlopen_kw\n\u001b[1;32m    120\u001b[0m     )\n",
      "File \u001b[0;32m~/anaconda3/lib/python3.11/site-packages/urllib3/_request_methods.py:217\u001b[0m, in \u001b[0;36mRequestMethods.request_encode_body\u001b[0;34m(self, method, url, fields, headers, encode_multipart, multipart_boundary, **urlopen_kw)\u001b[0m\n\u001b[1;32m    213\u001b[0m     extra_kw[\u001b[38;5;124m\"\u001b[39m\u001b[38;5;124mheaders\u001b[39m\u001b[38;5;124m\"\u001b[39m]\u001b[38;5;241m.\u001b[39msetdefault(\u001b[38;5;124m\"\u001b[39m\u001b[38;5;124mContent-Type\u001b[39m\u001b[38;5;124m\"\u001b[39m, content_type)\n\u001b[1;32m    215\u001b[0m extra_kw\u001b[38;5;241m.\u001b[39mupdate(urlopen_kw)\n\u001b[0;32m--> 217\u001b[0m \u001b[38;5;28;01mreturn\u001b[39;00m \u001b[38;5;28mself\u001b[39m\u001b[38;5;241m.\u001b[39murlopen(method, url, \u001b[38;5;241m*\u001b[39m\u001b[38;5;241m*\u001b[39mextra_kw)\n",
      "File \u001b[0;32m~/anaconda3/lib/python3.11/site-packages/urllib3/poolmanager.py:443\u001b[0m, in \u001b[0;36mPoolManager.urlopen\u001b[0;34m(self, method, url, redirect, **kw)\u001b[0m\n\u001b[1;32m    441\u001b[0m     response \u001b[38;5;241m=\u001b[39m conn\u001b[38;5;241m.\u001b[39murlopen(method, url, \u001b[38;5;241m*\u001b[39m\u001b[38;5;241m*\u001b[39mkw)\n\u001b[1;32m    442\u001b[0m \u001b[38;5;28;01melse\u001b[39;00m:\n\u001b[0;32m--> 443\u001b[0m     response \u001b[38;5;241m=\u001b[39m conn\u001b[38;5;241m.\u001b[39murlopen(method, u\u001b[38;5;241m.\u001b[39mrequest_uri, \u001b[38;5;241m*\u001b[39m\u001b[38;5;241m*\u001b[39mkw)\n\u001b[1;32m    445\u001b[0m redirect_location \u001b[38;5;241m=\u001b[39m redirect \u001b[38;5;129;01mand\u001b[39;00m response\u001b[38;5;241m.\u001b[39mget_redirect_location()\n\u001b[1;32m    446\u001b[0m \u001b[38;5;28;01mif\u001b[39;00m \u001b[38;5;129;01mnot\u001b[39;00m redirect_location:\n",
      "File \u001b[0;32m~/anaconda3/lib/python3.11/site-packages/urllib3/connectionpool.py:791\u001b[0m, in \u001b[0;36mHTTPConnectionPool.urlopen\u001b[0;34m(self, method, url, body, headers, retries, redirect, assert_same_host, timeout, pool_timeout, release_conn, chunked, body_pos, preload_content, decode_content, **response_kw)\u001b[0m\n\u001b[1;32m    788\u001b[0m response_conn \u001b[38;5;241m=\u001b[39m conn \u001b[38;5;28;01mif\u001b[39;00m \u001b[38;5;129;01mnot\u001b[39;00m release_conn \u001b[38;5;28;01melse\u001b[39;00m \u001b[38;5;28;01mNone\u001b[39;00m\n\u001b[1;32m    790\u001b[0m \u001b[38;5;66;03m# Make the request on the HTTPConnection object\u001b[39;00m\n\u001b[0;32m--> 791\u001b[0m response \u001b[38;5;241m=\u001b[39m \u001b[38;5;28mself\u001b[39m\u001b[38;5;241m.\u001b[39m_make_request(\n\u001b[1;32m    792\u001b[0m     conn,\n\u001b[1;32m    793\u001b[0m     method,\n\u001b[1;32m    794\u001b[0m     url,\n\u001b[1;32m    795\u001b[0m     timeout\u001b[38;5;241m=\u001b[39mtimeout_obj,\n\u001b[1;32m    796\u001b[0m     body\u001b[38;5;241m=\u001b[39mbody,\n\u001b[1;32m    797\u001b[0m     headers\u001b[38;5;241m=\u001b[39mheaders,\n\u001b[1;32m    798\u001b[0m     chunked\u001b[38;5;241m=\u001b[39mchunked,\n\u001b[1;32m    799\u001b[0m     retries\u001b[38;5;241m=\u001b[39mretries,\n\u001b[1;32m    800\u001b[0m     response_conn\u001b[38;5;241m=\u001b[39mresponse_conn,\n\u001b[1;32m    801\u001b[0m     preload_content\u001b[38;5;241m=\u001b[39mpreload_content,\n\u001b[1;32m    802\u001b[0m     decode_content\u001b[38;5;241m=\u001b[39mdecode_content,\n\u001b[1;32m    803\u001b[0m     \u001b[38;5;241m*\u001b[39m\u001b[38;5;241m*\u001b[39mresponse_kw,\n\u001b[1;32m    804\u001b[0m )\n\u001b[1;32m    806\u001b[0m \u001b[38;5;66;03m# Everything went great!\u001b[39;00m\n\u001b[1;32m    807\u001b[0m clean_exit \u001b[38;5;241m=\u001b[39m \u001b[38;5;28;01mTrue\u001b[39;00m\n",
      "File \u001b[0;32m~/anaconda3/lib/python3.11/site-packages/urllib3/connectionpool.py:537\u001b[0m, in \u001b[0;36mHTTPConnectionPool._make_request\u001b[0;34m(self, conn, method, url, body, headers, retries, timeout, chunked, response_conn, preload_content, decode_content, enforce_content_length)\u001b[0m\n\u001b[1;32m    535\u001b[0m \u001b[38;5;66;03m# Receive the response from the server\u001b[39;00m\n\u001b[1;32m    536\u001b[0m \u001b[38;5;28;01mtry\u001b[39;00m:\n\u001b[0;32m--> 537\u001b[0m     response \u001b[38;5;241m=\u001b[39m conn\u001b[38;5;241m.\u001b[39mgetresponse()\n\u001b[1;32m    538\u001b[0m \u001b[38;5;28;01mexcept\u001b[39;00m (BaseSSLError, \u001b[38;5;167;01mOSError\u001b[39;00m) \u001b[38;5;28;01mas\u001b[39;00m e:\n\u001b[1;32m    539\u001b[0m     \u001b[38;5;28mself\u001b[39m\u001b[38;5;241m.\u001b[39m_raise_timeout(err\u001b[38;5;241m=\u001b[39me, url\u001b[38;5;241m=\u001b[39murl, timeout_value\u001b[38;5;241m=\u001b[39mread_timeout)\n",
      "File \u001b[0;32m~/anaconda3/lib/python3.11/site-packages/urllib3/connection.py:461\u001b[0m, in \u001b[0;36mHTTPConnection.getresponse\u001b[0;34m(self)\u001b[0m\n\u001b[1;32m    458\u001b[0m \u001b[38;5;28;01mfrom\u001b[39;00m \u001b[38;5;21;01m.\u001b[39;00m\u001b[38;5;21;01mresponse\u001b[39;00m \u001b[38;5;28;01mimport\u001b[39;00m HTTPResponse\n\u001b[1;32m    460\u001b[0m \u001b[38;5;66;03m# Get the response from http.client.HTTPConnection\u001b[39;00m\n\u001b[0;32m--> 461\u001b[0m httplib_response \u001b[38;5;241m=\u001b[39m \u001b[38;5;28msuper\u001b[39m()\u001b[38;5;241m.\u001b[39mgetresponse()\n\u001b[1;32m    463\u001b[0m \u001b[38;5;28;01mtry\u001b[39;00m:\n\u001b[1;32m    464\u001b[0m     assert_header_parsing(httplib_response\u001b[38;5;241m.\u001b[39mmsg)\n",
      "File \u001b[0;32m~/anaconda3/lib/python3.11/http/client.py:1386\u001b[0m, in \u001b[0;36mHTTPConnection.getresponse\u001b[0;34m(self)\u001b[0m\n\u001b[1;32m   1384\u001b[0m \u001b[38;5;28;01mtry\u001b[39;00m:\n\u001b[1;32m   1385\u001b[0m     \u001b[38;5;28;01mtry\u001b[39;00m:\n\u001b[0;32m-> 1386\u001b[0m         response\u001b[38;5;241m.\u001b[39mbegin()\n\u001b[1;32m   1387\u001b[0m     \u001b[38;5;28;01mexcept\u001b[39;00m \u001b[38;5;167;01mConnectionError\u001b[39;00m:\n\u001b[1;32m   1388\u001b[0m         \u001b[38;5;28mself\u001b[39m\u001b[38;5;241m.\u001b[39mclose()\n",
      "File \u001b[0;32m~/anaconda3/lib/python3.11/http/client.py:325\u001b[0m, in \u001b[0;36mHTTPResponse.begin\u001b[0;34m(self)\u001b[0m\n\u001b[1;32m    323\u001b[0m \u001b[38;5;66;03m# read until we get a non-100 response\u001b[39;00m\n\u001b[1;32m    324\u001b[0m \u001b[38;5;28;01mwhile\u001b[39;00m \u001b[38;5;28;01mTrue\u001b[39;00m:\n\u001b[0;32m--> 325\u001b[0m     version, status, reason \u001b[38;5;241m=\u001b[39m \u001b[38;5;28mself\u001b[39m\u001b[38;5;241m.\u001b[39m_read_status()\n\u001b[1;32m    326\u001b[0m     \u001b[38;5;28;01mif\u001b[39;00m status \u001b[38;5;241m!=\u001b[39m CONTINUE:\n\u001b[1;32m    327\u001b[0m         \u001b[38;5;28;01mbreak\u001b[39;00m\n",
      "File \u001b[0;32m~/anaconda3/lib/python3.11/http/client.py:286\u001b[0m, in \u001b[0;36mHTTPResponse._read_status\u001b[0;34m(self)\u001b[0m\n\u001b[1;32m    285\u001b[0m \u001b[38;5;28;01mdef\u001b[39;00m \u001b[38;5;21m_read_status\u001b[39m(\u001b[38;5;28mself\u001b[39m):\n\u001b[0;32m--> 286\u001b[0m     line \u001b[38;5;241m=\u001b[39m \u001b[38;5;28mstr\u001b[39m(\u001b[38;5;28mself\u001b[39m\u001b[38;5;241m.\u001b[39mfp\u001b[38;5;241m.\u001b[39mreadline(_MAXLINE \u001b[38;5;241m+\u001b[39m \u001b[38;5;241m1\u001b[39m), \u001b[38;5;124m\"\u001b[39m\u001b[38;5;124miso-8859-1\u001b[39m\u001b[38;5;124m\"\u001b[39m)\n\u001b[1;32m    287\u001b[0m     \u001b[38;5;28;01mif\u001b[39;00m \u001b[38;5;28mlen\u001b[39m(line) \u001b[38;5;241m>\u001b[39m _MAXLINE:\n\u001b[1;32m    288\u001b[0m         \u001b[38;5;28;01mraise\u001b[39;00m LineTooLong(\u001b[38;5;124m\"\u001b[39m\u001b[38;5;124mstatus line\u001b[39m\u001b[38;5;124m\"\u001b[39m)\n",
      "File \u001b[0;32m~/anaconda3/lib/python3.11/socket.py:706\u001b[0m, in \u001b[0;36mSocketIO.readinto\u001b[0;34m(self, b)\u001b[0m\n\u001b[1;32m    704\u001b[0m \u001b[38;5;28;01mwhile\u001b[39;00m \u001b[38;5;28;01mTrue\u001b[39;00m:\n\u001b[1;32m    705\u001b[0m     \u001b[38;5;28;01mtry\u001b[39;00m:\n\u001b[0;32m--> 706\u001b[0m         \u001b[38;5;28;01mreturn\u001b[39;00m \u001b[38;5;28mself\u001b[39m\u001b[38;5;241m.\u001b[39m_sock\u001b[38;5;241m.\u001b[39mrecv_into(b)\n\u001b[1;32m    707\u001b[0m     \u001b[38;5;28;01mexcept\u001b[39;00m timeout:\n\u001b[1;32m    708\u001b[0m         \u001b[38;5;28mself\u001b[39m\u001b[38;5;241m.\u001b[39m_timeout_occurred \u001b[38;5;241m=\u001b[39m \u001b[38;5;28;01mTrue\u001b[39;00m\n",
      "\u001b[0;31mKeyboardInterrupt\u001b[0m: "
     ]
    }
   ],
   "source": [
    "if refresh_price:\n",
    "    get_price(data, category, expansions, cards)"
   ]
  },
  {
   "cell_type": "code",
   "execution_count": 45,
   "id": "ce30bd0e-0eb1-4a67-bc4c-e72446251256",
   "metadata": {},
   "outputs": [],
   "source": [
    "def get_df(data, category, selected_expansions = [], selected_cards = []):\n",
    "    cards = []\n",
    "    for expansion, card_list in data[category].items():\n",
    "        for card_name, card_info in card_list.items():\n",
    "            card_info_copy = card_info.copy()  # Avoid modifying the original data\n",
    "            card_info_copy.update({'expansion': expansion, 'card_name': card_name})\n",
    "            cards.append(card_info_copy)\n",
    "\n",
    "    df = pd.DataFrame(cards).set_index(['expansion', 'card_name'])\n",
    "\n",
    "    if selected_expansions or selected_cards:\n",
    "        df = df.loc[df.index.get_level_values('expansion').isin(selected_expansions) | \n",
    "                    df.index.get_level_values('card_name').isin(selected_cards)].copy()\n",
    "    return df"
   ]
  },
  {
   "cell_type": "code",
   "execution_count": 47,
   "id": "cc190020-95fa-46b9-bcdd-aee7cdeecd83",
   "metadata": {},
   "outputs": [],
   "source": [
    "df = get_df(data, category, expansions, cards)"
   ]
  },
  {
   "cell_type": "code",
   "execution_count": 49,
   "id": "53f6d9d5-b80f-4205-89e7-deb1ccc6d258",
   "metadata": {},
   "outputs": [
    {
     "data": {
      "text/html": [
       "<div>\n",
       "<style scoped>\n",
       "    .dataframe tbody tr th:only-of-type {\n",
       "        vertical-align: middle;\n",
       "    }\n",
       "\n",
       "    .dataframe tbody tr th {\n",
       "        vertical-align: top;\n",
       "    }\n",
       "\n",
       "    .dataframe thead th {\n",
       "        text-align: right;\n",
       "    }\n",
       "</style>\n",
       "<table border=\"1\" class=\"dataframe\">\n",
       "  <thead>\n",
       "    <tr style=\"text-align: right;\">\n",
       "      <th></th>\n",
       "      <th></th>\n",
       "      <th>quantity</th>\n",
       "      <th>price_from</th>\n",
       "      <th>price_trend</th>\n",
       "      <th>price_30_day_avg</th>\n",
       "    </tr>\n",
       "    <tr>\n",
       "      <th>expansion</th>\n",
       "      <th>card_name</th>\n",
       "      <th></th>\n",
       "      <th></th>\n",
       "      <th></th>\n",
       "      <th></th>\n",
       "    </tr>\n",
       "  </thead>\n",
       "  <tbody>\n",
       "    <tr>\n",
       "      <th>Duelist-Nexus</th>\n",
       "      <th>Zuttomozaurus</th>\n",
       "      <td>1</td>\n",
       "      <td>0.04</td>\n",
       "      <td>0.03</td>\n",
       "      <td>0.03</td>\n",
       "    </tr>\n",
       "    <tr>\n",
       "      <th rowspan=\"4\" valign=\"top\">Speed-Duel-GX-Duel-Academy-Box</th>\n",
       "      <th>Consumed-By-Darkness-Skill</th>\n",
       "      <td>1</td>\n",
       "      <td>0.08</td>\n",
       "      <td>0.06</td>\n",
       "      <td>0.07</td>\n",
       "    </tr>\n",
       "    <tr>\n",
       "      <th>Energizing-Elements-Skill</th>\n",
       "      <td>1</td>\n",
       "      <td>0.09</td>\n",
       "      <td>0.07</td>\n",
       "      <td>0.04</td>\n",
       "    </tr>\n",
       "    <tr>\n",
       "      <th>Room-for-Growth-Skill</th>\n",
       "      <td>1</td>\n",
       "      <td>0.13</td>\n",
       "      <td>0.10</td>\n",
       "      <td>0.13</td>\n",
       "    </tr>\n",
       "    <tr>\n",
       "      <th>The-Right-Hero-for-the-Job-Skill</th>\n",
       "      <td>1</td>\n",
       "      <td>0.14</td>\n",
       "      <td>0.11</td>\n",
       "      <td>0.17</td>\n",
       "    </tr>\n",
       "  </tbody>\n",
       "</table>\n",
       "</div>"
      ],
      "text/plain": [
       "                                                                 quantity  \\\n",
       "expansion                      card_name                                    \n",
       "Duelist-Nexus                  Zuttomozaurus                            1   \n",
       "Speed-Duel-GX-Duel-Academy-Box Consumed-By-Darkness-Skill               1   \n",
       "                               Energizing-Elements-Skill                1   \n",
       "                               Room-for-Growth-Skill                    1   \n",
       "                               The-Right-Hero-for-the-Job-Skill         1   \n",
       "\n",
       "                                                                 price_from  \\\n",
       "expansion                      card_name                                      \n",
       "Duelist-Nexus                  Zuttomozaurus                           0.04   \n",
       "Speed-Duel-GX-Duel-Academy-Box Consumed-By-Darkness-Skill              0.08   \n",
       "                               Energizing-Elements-Skill               0.09   \n",
       "                               Room-for-Growth-Skill                   0.13   \n",
       "                               The-Right-Hero-for-the-Job-Skill        0.14   \n",
       "\n",
       "                                                                 price_trend  \\\n",
       "expansion                      card_name                                       \n",
       "Duelist-Nexus                  Zuttomozaurus                            0.03   \n",
       "Speed-Duel-GX-Duel-Academy-Box Consumed-By-Darkness-Skill               0.06   \n",
       "                               Energizing-Elements-Skill                0.07   \n",
       "                               Room-for-Growth-Skill                    0.10   \n",
       "                               The-Right-Hero-for-the-Job-Skill         0.11   \n",
       "\n",
       "                                                                 price_30_day_avg  \n",
       "expansion                      card_name                                           \n",
       "Duelist-Nexus                  Zuttomozaurus                                 0.03  \n",
       "Speed-Duel-GX-Duel-Academy-Box Consumed-By-Darkness-Skill                    0.07  \n",
       "                               Energizing-Elements-Skill                     0.04  \n",
       "                               Room-for-Growth-Skill                         0.13  \n",
       "                               The-Right-Hero-for-the-Job-Skill              0.17  "
      ]
     },
     "execution_count": 49,
     "metadata": {},
     "output_type": "execute_result"
    }
   ],
   "source": [
    "df[(df['price_from'] > df['price_trend']*1.2) & (df['quantity'] > 0)]"
   ]
  },
  {
   "cell_type": "code",
   "execution_count": 65,
   "id": "36752e51-3230-4afd-9ba9-ddce56e87423",
   "metadata": {},
   "outputs": [],
   "source": [
    "def get_worth(data, category, selected_expansions = [], selected_cards = []):\n",
    "    cards = []\n",
    "    for expansion, card_list in data[category].items():\n",
    "        for card_name, card_info in card_list.items():\n",
    "            card_info_copy = card_info.copy()  # Avoid modifying the original data\n",
    "            card_info_copy.update({'expansion': expansion, 'card_name': card_name})\n",
    "            cards.append(card_info_copy)\n",
    "\n",
    "    df = pd.DataFrame(cards).set_index(['expansion', 'card_name'])\n",
    "\n",
    "    if selected_expansions or selected_cards:\n",
    "        df = df.loc[df.index.get_level_values('expansion').isin(selected_expansions) | \n",
    "                    df.index.get_level_values('card_name').isin(selected_cards)].copy()\n",
    "    df = df[df['quantity'] > 0]\n",
    "    \n",
    "    df['total_price'] = df['quantity'] * df[pricing_basis]\n",
    "    print(df.reset_index()[['card_name', 'quantity', pricing_basis, 'total_price']])\n",
    "    sum = df['total_price'].sum()\n",
    "    print(f\"{sum:.2f}\")"
   ]
  },
  {
   "cell_type": "code",
   "execution_count": 71,
   "id": "f5d75a48-3c69-401e-9a0e-0b12d8e75c92",
   "metadata": {},
   "outputs": [
    {
     "name": "stdout",
     "output_type": "stream",
     "text": [
      "                              card_name  quantity  price_30_day_avg  \\\n",
      "0        Ib-the-World-Chalice-Priestess         2              0.22   \n",
      "1                        Crystal-Keeper         3              0.07   \n",
      "2                        Crystal-Master         3              0.10   \n",
      "3        Sky-Striker-Airspace-Area-Zero         2              1.26   \n",
      "4    Sky-Striker-Maneuver-Jamming-Waves         2              0.80   \n",
      "..                                  ...       ...               ...   \n",
      "665                             Raigeki         1              2.08   \n",
      "666                      Solemn-Warning         3              0.35   \n",
      "667      Isolde-Belle-of-the-Underworld         1              0.14   \n",
      "668               Solemn-Strike-V1-Rare         3              0.31   \n",
      "669                   Forbidden-Chalice         1              0.56   \n",
      "\n",
      "     total_price  \n",
      "0           0.44  \n",
      "1           0.21  \n",
      "2           0.30  \n",
      "3           2.52  \n",
      "4           1.60  \n",
      "..           ...  \n",
      "665         2.08  \n",
      "666         1.05  \n",
      "667         0.14  \n",
      "668         0.93  \n",
      "669         0.56  \n",
      "\n",
      "[670 rows x 4 columns]\n",
      "462.89\n"
     ]
    }
   ],
   "source": [
    "get_worth(data, category, expansions, cards)"
   ]
  },
  {
   "cell_type": "code",
   "execution_count": null,
   "id": "8cb35489-80aa-45d1-ab00-4593ce9e6aa1",
   "metadata": {},
   "outputs": [],
   "source": [
    "driver.quit()"
   ]
  },
  {
   "cell_type": "code",
   "execution_count": null,
   "id": "0b021dc4-5111-403d-92b6-cdaf42a67245",
   "metadata": {},
   "outputs": [],
   "source": []
  }
 ],
 "metadata": {
  "kernelspec": {
   "display_name": "Python 3 (ipykernel)",
   "language": "python",
   "name": "python3"
  },
  "language_info": {
   "codemirror_mode": {
    "name": "ipython",
    "version": 3
   },
   "file_extension": ".py",
   "mimetype": "text/x-python",
   "name": "python",
   "nbconvert_exporter": "python",
   "pygments_lexer": "ipython3",
   "version": "3.11.7"
  }
 },
 "nbformat": 4,
 "nbformat_minor": 5
}
